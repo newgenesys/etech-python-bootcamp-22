{
  "nbformat": 4,
  "nbformat_minor": 0,
  "metadata": {
    "kernelspec": {
      "display_name": "Python 3",
      "language": "python",
      "name": "python3"
    },
    "language_info": {
      "codemirror_mode": {
        "name": "ipython",
        "version": 3
      },
      "file_extension": ".py",
      "mimetype": "text/x-python",
      "name": "python",
      "nbconvert_exporter": "python",
      "pygments_lexer": "ipython3",
      "version": "3.8.8"
    },
    "nbclean": true,
    "colab": {
      "provenance": [],
      "collapsed_sections": [
        "m4_B9cBYfWjh",
        "axY01pgZfWjs",
        "fsBSEuo9fWjt",
        "r9S0-Na_fWjv",
        "ySo_Ie1HfWjw",
        "UldOQ7RGfWjz",
        "G8XhWUCKfWj0",
        "deayE0eKfWj9",
        "pHGiKGAbfWkB",
        "_VekdzRnfWkF",
        "ub4svxirfWkG",
        "_Uz8HL4-fWkH",
        "XqgEuW_xfWkJ",
        "fDVFTFY8fWkK",
        "LvFaOoQQfWkL",
        "F5WnEhiAfWkN",
        "Bg6L0RqrfWkO",
        "3Xt4FqbxfWkQ",
        "KzRyB5FUfWkQ"
      ],
      "include_colab_link": true
    }
  },
  "cells": [
    {
      "cell_type": "markdown",
      "metadata": {
        "id": "view-in-github",
        "colab_type": "text"
      },
      "source": [
        "<a href=\"https://colab.research.google.com/github/newgenesys/etech-python-bootcamp-22/blob/main/4_PY_DataStructures.ipynb\" target=\"_parent\"><img src=\"https://colab.research.google.com/assets/colab-badge.svg\" alt=\"Open In Colab\"/></a>"
      ]
    },
    {
      "cell_type": "markdown",
      "metadata": {
        "id": "BLosGO8lfWjO"
      },
      "source": [
        "---\n",
        "# 04 - Data Structures\n",
        "---"
      ]
    },
    {
      "cell_type": "code",
      "metadata": {
        "id": "bCFZOcFWfWjT"
      },
      "source": [
        "%matplotlib inline\n",
        "import matplotlib\n",
        "import seaborn as sns\n",
        "matplotlib.rcParams['savefig.dpi'] = 144"
      ],
      "execution_count": null,
      "outputs": []
    },
    {
      "cell_type": "code",
      "metadata": {
        "id": "6vGV2vdQfWjV"
      },
      "source": [
        "import expectexception"
      ],
      "execution_count": null,
      "outputs": []
    },
    {
      "cell_type": "markdown",
      "metadata": {
        "id": "_nkrCA3CfWjV"
      },
      "source": [
        "# Python data types and structures\n",
        "\n",
        "<!-- requirement: images/list_illustration.png -->\n",
        "<!-- requirement: images/hash_illustration.png -->\n",
        "<!-- requirement: images/set_operations.png -->\n",
        "\n",
        "In the [Program Flow notebook](PY_ProgramFlow.ipynb), we introduced the idea of variables, which we could use to store several different kinds of information. We could store text, numbers, or truth values. These different kinds of information correspond with different Python data `type`s."
      ]
    },
    {
      "cell_type": "code",
      "metadata": {
        "id": "wIwuvMvOfWjX"
      },
      "source": [
        "print(type('some text'))\n",
        "print(type(10))\n",
        "print(type(10.3))\n",
        "print(type(True))"
      ],
      "execution_count": null,
      "outputs": []
    },
    {
      "cell_type": "markdown",
      "metadata": {
        "id": "wT_a3_zMfWjX"
      },
      "source": [
        "We also briefly introduced the Python `list`, which can be used to store a collection of data."
      ]
    },
    {
      "cell_type": "code",
      "metadata": {
        "id": "PgjyMAD9fWjY"
      },
      "source": [
        "# an example list\n",
        "beans_recipe = ['Soak beans in water', 'Dissolve salt in water', 'Heat water and beans to boil', \n",
        "                'Drain beans when done cooking']\n",
        "\n",
        "receipe1 = 'Soak beans in water'\n",
        "receipe2 = 'Dissolve salt in water'\n",
        "receipe3 = 'Heat water and beans to boil'\n",
        "receipe4 = 'Drain beans when done cooking'"
      ],
      "execution_count": null,
      "outputs": []
    },
    {
      "cell_type": "markdown",
      "source": [
        "Contiguous block\n",
        "**vs**\n",
        "Continuous block"
      ],
      "metadata": {
        "id": "pVHZ64ocXy_F"
      }
    },
    {
      "cell_type": "markdown",
      "metadata": {
        "id": "qN3LZdLnfWjZ"
      },
      "source": [
        "Sometimes we will store information in individual variables, but often we will be working with several pieces of information that we want to group together because of their relationship or similarity. For example, if we were shopping for groceries, we could store each item we are going to buy in separate variables or we could store all of the items in one list."
      ]
    },
    {
      "cell_type": "code",
      "metadata": {
        "id": "qqxEuLzLfWjZ"
      },
      "source": [
        "grocery_a = 'chicken'\n",
        "grocery_b = 'onions'\n",
        "grocery_c = 'rice'\n",
        "grocery_d = 'peppers'\n",
        "grocery_e = 'bananas'"
      ],
      "execution_count": null,
      "outputs": []
    },
    {
      "cell_type": "code",
      "source": [
        "def buy_groceries_individual(item_a, item_b, item_c, item_d, item_e):\n",
        "    print('Buying %s...' % item_a)\n",
        "    print('Buying %s...' % item_b)\n",
        "    print('Buying %s...' % item_c)\n",
        "    print('Buying %s...' % item_d)\n",
        "    print('Buying %s...' % item_e)"
      ],
      "metadata": {
        "id": "rJPuN7mmbitt"
      },
      "execution_count": null,
      "outputs": []
    },
    {
      "cell_type": "code",
      "source": [
        "buy_groceries_individual(grocery_a, grocery_b, grocery_c, grocery_d, grocery_e)"
      ],
      "metadata": {
        "colab": {
          "base_uri": "https://localhost:8080/"
        },
        "id": "powpdIjObpqA",
        "outputId": "6c84dcd0-eba4-448d-fd51-95d56d098a81"
      },
      "execution_count": null,
      "outputs": [
        {
          "output_type": "stream",
          "name": "stdout",
          "text": [
            "Buying chicken...\n",
            "Buying onions...\n",
            "Buying rice...\n",
            "Buying peppers...\n",
            "Buying bananas...\n"
          ]
        }
      ]
    },
    {
      "cell_type": "markdown",
      "metadata": {
        "id": "dORvl4SIfWjb"
      },
      "source": [
        "Which of these approaches seems more useful to you? Let's write a short example function that \"buys\" each of the groceries we need."
      ]
    },
    {
      "cell_type": "code",
      "source": [
        "grocery_list = ['chicken', 'onions', 'rice', 'peppers', 'bananas']"
      ],
      "metadata": {
        "id": "iB5btCk3blYH"
      },
      "execution_count": null,
      "outputs": []
    },
    {
      "cell_type": "code",
      "metadata": {
        "id": "8A7ESwbefWjb"
      },
      "source": [
        "def buy_grocery_list(items):\n",
        "    for item in items:\n",
        "        print('Buying %s...' % item)"
      ],
      "execution_count": null,
      "outputs": []
    },
    {
      "cell_type": "code",
      "metadata": {
        "id": "bVEaSAtSfWjd",
        "colab": {
          "base_uri": "https://localhost:8080/"
        },
        "outputId": "0cef3549-4676-4744-ee23-eb68708eaa49"
      },
      "source": [
        "buy_grocery_list(grocery_list)"
      ],
      "execution_count": null,
      "outputs": [
        {
          "output_type": "stream",
          "name": "stdout",
          "text": [
            "Buying chicken...\n",
            "Buying onions...\n",
            "Buying rice...\n",
            "Buying peppers...\n",
            "Buying bananas...\n"
          ]
        }
      ]
    },
    {
      "cell_type": "code",
      "metadata": {
        "id": "c45M6jCYfWjd",
        "colab": {
          "base_uri": "https://localhost:8080/"
        },
        "outputId": "ac128678-0224-48db-c512-8c7d18e07f6d"
      },
      "source": [],
      "execution_count": null,
      "outputs": [
        {
          "output_type": "stream",
          "name": "stdout",
          "text": [
            "Buying chicken...\n",
            "Buying onions...\n",
            "Buying rice...\n",
            "Buying peppers...\n",
            "Buying bananas...\n"
          ]
        }
      ]
    },
    {
      "cell_type": "markdown",
      "metadata": {
        "id": "5BnhI4-VfWje"
      },
      "source": [
        "By using a `list`, we could use a `for` loop to write a much shorter function. But even more important, `buy_grocery_list` is much more flexible. What if instead of buying five items, we wanted to buy more or less?"
      ]
    },
    {
      "cell_type": "code",
      "metadata": {
        "id": "rNkTwu5afWje"
      },
      "source": [
        "%%expect_exception TypeError\n",
        "\n",
        "# let's try to buy just three items\n",
        "buy_groceries_individual(grocery_a, grocery_b, grocery_c)"
      ],
      "execution_count": null,
      "outputs": []
    },
    {
      "cell_type": "code",
      "metadata": {
        "id": "N9pI8ZDTfWje"
      },
      "source": [
        "%%expect_exception TypeError\n",
        "\n",
        "# let's try to buy a sixth item\n",
        "\n",
        "grocery_f = 'squash'\n",
        "\n",
        "buy_groceries_individual(grocery_a, grocery_b, grocery_c, grocery_d, grocery_e, grocery_f)"
      ],
      "execution_count": null,
      "outputs": []
    },
    {
      "cell_type": "markdown",
      "metadata": {
        "id": "LOm8SU1CfWjf"
      },
      "source": [
        "We encounter an error when we try to use `buy_groceries_individual` because it is expecting \"exactly 5 arguments.\" We don't run into that problem with `buy_grocery_list`, because our `for` loop can work with lists of any length."
      ]
    },
    {
      "cell_type": "code",
      "metadata": {
        "id": "hqkRNW7ifWjf",
        "colab": {
          "base_uri": "https://localhost:8080/"
        },
        "outputId": "62e399ff-fd3c-4254-dbaa-e58122259e6e"
      },
      "source": [
        "short_grocery_list = ['chicken', 'onions', 'rice']\n",
        "\n",
        "buy_grocery_list(short_grocery_list)"
      ],
      "execution_count": null,
      "outputs": [
        {
          "output_type": "stream",
          "name": "stdout",
          "text": [
            "Buying chicken...\n",
            "Buying onions...\n",
            "Buying rice...\n"
          ]
        }
      ]
    },
    {
      "cell_type": "code",
      "metadata": {
        "id": "MRn-DEDofWjg",
        "colab": {
          "base_uri": "https://localhost:8080/"
        },
        "outputId": "686b3927-3091-4d23-8518-9b6dbacfe441"
      },
      "source": [
        "long_grocery_list = ['chicken', 'onions', 'rice', 'peppers', 'bananas', 'squash']\n",
        "\n",
        "buy_grocery_list(long_grocery_list)"
      ],
      "execution_count": null,
      "outputs": [
        {
          "output_type": "stream",
          "name": "stdout",
          "text": [
            "Buying chicken...\n",
            "Buying onions...\n",
            "Buying rice...\n",
            "Buying peppers...\n",
            "Buying bananas...\n",
            "Buying squash...\n"
          ]
        }
      ]
    },
    {
      "cell_type": "markdown",
      "metadata": {
        "id": "m4_B9cBYfWjh"
      },
      "source": [
        "We see we successfully dealt with both a shorter and a longer list.  \n",
        "\n",
        "Collections (or [**containers**](https://stackoverflow.com/questions/11575925/what-exactly-are-containers-in-python-and-what-are-all-the-python-container) as they're known in Python) can be very useful for tackling complex data problems. Python provides several types of containers, which we will explore. Each one has different properties and structure that make them useful for specific tasks. Later in the course, we'll also introduce powerful, highly-structured containers that Python users have invented and shared with the Python community.\n",
        "\n",
        "In the context of data science, we'll often call a collection of data that logically belongs together a **data set**, and the type of variable we use to store it in Python a **data structure**. These terms are meant to emphasize the relationships between the individual pieces of information that creates their meaning as a whole.\n",
        "\n",
        "### Exercises\n",
        "\n",
        "1. What kind of data can naturally be represented by a `list`?  How about a `list` comprised of `list` objects?"
      ]
    },
    {
      "cell_type": "markdown",
      "metadata": {
        "id": "XqG5JOStfWjh"
      },
      "source": [
        "**Answer:** We can naturally represent a collection of items in a list that represent related information."
      ]
    },
    {
      "cell_type": "code",
      "metadata": {
        "id": "NBHNB4YpfWji",
        "colab": {
          "base_uri": "https://localhost:8080/"
        },
        "outputId": "cc99688b-5f65-4d0b-ebd0-a9ce05a0958e"
      },
      "source": [
        "list_of_list = ['Potatoes',['Galic','Ginger'], ['Rum','Juice','Water']]\n",
        "list_of_list\n",
        "#buy_grocery_list(list_of_list)"
      ],
      "execution_count": null,
      "outputs": [
        {
          "output_type": "execute_result",
          "data": {
            "text/plain": [
              "['Potatoes', ['Galic', 'Ginger'], ['Rum', 'Juice', 'Water']]"
            ]
          },
          "metadata": {},
          "execution_count": 8
        }
      ]
    },
    {
      "cell_type": "markdown",
      "metadata": {
        "id": "Yw6Z-7_HfWji"
      },
      "source": [
        "## Lists: Storing Ordered Collections of Values\n",
        "\n",
        "### What is a list?\n",
        "Variables are used to store a specfic value with a specific data type, but as a data scientist you'll be working with A LOT of data points. For example, in the previous assignment we calculated the BMI of two people. Imagine if we'd asked you to do it for twenty people. Updating the variables twenty times or creating twenty different variables would have been tedious and repetitive.\n",
        "\n",
        "In this lesson we're going to introduce a new Python \"data structure\" that will allow us to store *multiple* values to a *single* variable. This data structure is called a ***list***. \n",
        "\n",
        "\n",
        "### List Syntax:\n",
        "\n",
        "We've created lists by using square brackets `[]` around the data we want the list to contain. We can also create lists out of variables, rather than writing in the data directly.\n",
        "\n",
        "Every list is wrapped in square brackets: `[ ]` and each value within the list is separated by commas: `,`. Lists are particularly useful because the **order** of items within the list is always maintained. This allows us to reliably store and retrieve specific values within a list. \n",
        "\n",
        "Let's make our first list from the ages of some previous students."
      ]
    },
    {
      "cell_type": "code",
      "metadata": {
        "id": "TfgO4TwWfqnS"
      },
      "source": [
        "# You can create a list simply by using brackets [ ] and separating elements with a comma\n",
        "ages = [24, 23, True, 23, 'Cat', 46, 19, 34]"
      ],
      "execution_count": null,
      "outputs": []
    },
    {
      "cell_type": "markdown",
      "metadata": {
        "id": "lIjJHCD2fubB"
      },
      "source": [
        "We can store our list of values to a variable just like we would a single value using the assignment operator (equals sign): `=`.\n",
        "\n",
        "But this variable will then not have a type of 'float', 'int', 'string', or 'boolean' like we have practiced in previous lessons, but it will have a data type of \"list\" because that's what we have stored to it."
      ]
    },
    {
      "cell_type": "code",
      "metadata": {
        "id": "YBgkCwfKfwtQ",
        "colab": {
          "base_uri": "https://localhost:8080/"
        },
        "outputId": "6014701d-0ca6-4b04-bda0-1a96dd991897"
      },
      "source": [
        "type(ages)"
      ],
      "execution_count": null,
      "outputs": [
        {
          "output_type": "execute_result",
          "data": {
            "text/plain": [
              "list"
            ]
          },
          "metadata": {},
          "execution_count": 18
        }
      ]
    },
    {
      "cell_type": "markdown",
      "metadata": {
        "id": "-k8_Fdc6fzJ_"
      },
      "source": [
        "We can access our list by using the variable that it is saved to just like we would any other variable. "
      ]
    },
    {
      "cell_type": "code",
      "metadata": {
        "id": "m6jO134yf1DZ",
        "colab": {
          "base_uri": "https://localhost:8080/"
        },
        "outputId": "e0da454f-f85d-47eb-a01b-4a3dae68fb18"
      },
      "source": [
        "print(ages)"
      ],
      "execution_count": null,
      "outputs": [
        {
          "output_type": "stream",
          "name": "stdout",
          "text": [
            "[24, 23, True, 23, 'Cat', 46, 19, 34]\n"
          ]
        }
      ]
    },
    {
      "cell_type": "markdown",
      "metadata": {
        "id": "qnoNeKB4f3dt"
      },
      "source": [
        "We can also have empty lists that don't have any items in them. Sometimes we will create an empty list first just so that our variable has something saved to it and then add values to it later."
      ]
    },
    {
      "cell_type": "code",
      "metadata": {
        "id": "9UCV9Q-6f52Q"
      },
      "source": [
        "empty_list = []"
      ],
      "execution_count": null,
      "outputs": []
    },
    {
      "cell_type": "code",
      "metadata": {
        "id": "yqoPEQ1Ff8AV",
        "colab": {
          "base_uri": "https://localhost:8080/"
        },
        "outputId": "e2b892e4-0245-4529-ae12-e18b51683218"
      },
      "source": [
        "empty_list"
      ],
      "execution_count": null,
      "outputs": [
        {
          "output_type": "execute_result",
          "data": {
            "text/plain": [
              "[]"
            ]
          },
          "metadata": {},
          "execution_count": 22
        }
      ]
    },
    {
      "cell_type": "code",
      "metadata": {
        "id": "wcwgvteHfWjj",
        "colab": {
          "base_uri": "https://localhost:8080/"
        },
        "outputId": "e659e06e-1423-4af0-fddf-9bcef9633934"
      },
      "source": [
        "grocery_a = 'chicken'\n",
        "grocery_b = 'onions'\n",
        "grocery_c = 'rice'\n",
        "grocery_d = 'peppers'\n",
        "grocery_e = 'bananas'\n",
        "\n",
        "grocery_list = ['chicken', 'onions', 'rice', 'peppers', 'bananas']\n",
        "print(grocery_list)\n",
        "\n",
        "grocery_list = [grocery_a, grocery_b, grocery_c, grocery_d, grocery_e]\n",
        "print(grocery_list)"
      ],
      "execution_count": null,
      "outputs": [
        {
          "output_type": "stream",
          "name": "stdout",
          "text": [
            "['chicken', 'onions', 'rice', 'peppers', 'bananas']\n",
            "['chicken', 'onions', 'rice', 'peppers', 'bananas']\n"
          ]
        }
      ]
    },
    {
      "cell_type": "markdown",
      "metadata": {
        "id": "p1li_kzNfWjj"
      },
      "source": [
        "### Lists can hold different types of values\n",
        "\n",
        "A list doesn't just have to hold integers, or floats or booleans, etc. But can hold all different types of values. This means that we can use a single list to hold lots of improtant information. \n",
        "\n",
        "Let's add some names to our ages list as well. \n",
        "\n",
        "So far we've worked with `list`s of strings (and `range`), but we're not limited to only that data type."
      ]
    },
    {
      "cell_type": "code",
      "metadata": {
        "id": "Sc6vyECqgKyG",
        "colab": {
          "base_uri": "https://localhost:8080/"
        },
        "outputId": "ba2076ff-d03c-41e0-90c2-446d62ee6d8a"
      },
      "source": [
        "names_and_ages = [\"Popeye\", 24, \"Tabatha\", 23, \"Jerry\", 25, \"Flynn\", 23, \"Sally\", 40, \"Michael\", 46, \"Susie\", 19, \"Amanda\", 34]\n",
        "\n",
        "# Notice there are both ints and strings in there. No problem!\n",
        "type(names_and_ages)"
      ],
      "execution_count": null,
      "outputs": [
        {
          "output_type": "execute_result",
          "data": {
            "text/plain": [
              "list"
            ]
          },
          "metadata": {},
          "execution_count": 24
        }
      ]
    },
    {
      "cell_type": "code",
      "metadata": {
        "id": "WH2kBVtegNpL",
        "colab": {
          "base_uri": "https://localhost:8080/"
        },
        "outputId": "71f84cce-b122-4718-f438-b654fe86a7c1"
      },
      "source": [
        "names_and_ages"
      ],
      "execution_count": null,
      "outputs": [
        {
          "output_type": "execute_result",
          "data": {
            "text/plain": [
              "['Popeye',\n",
              " 24,\n",
              " 'Tabatha',\n",
              " 23,\n",
              " 'Jerry',\n",
              " 25,\n",
              " 'Flynn',\n",
              " 23,\n",
              " 'Sally',\n",
              " 40,\n",
              " 'Michael',\n",
              " 46,\n",
              " 'Susie',\n",
              " 19,\n",
              " 'Amanda',\n",
              " 34]"
            ]
          },
          "metadata": {},
          "execution_count": 25
        }
      ]
    },
    {
      "cell_type": "code",
      "metadata": {
        "id": "44RFi2s8fWjj",
        "colab": {
          "base_uri": "https://localhost:8080/"
        },
        "outputId": "e7294ec1-1310-4f4f-8b93-62d1d17db5af"
      },
      "source": [
        "int_list = [2, 6, 3049, 18, 37]\n",
        "float_list = [3.7, 8.2, 178.245, 63.1]\n",
        "mixed_list = [26, False, 'some words', 1.264]\n",
        "\n",
        "print(int_list)\n",
        "print(float_list)\n",
        "print(mixed_list)"
      ],
      "execution_count": null,
      "outputs": [
        {
          "output_type": "stream",
          "name": "stdout",
          "text": [
            "[2, 6, 3049, 18, 37]\n",
            "[3.7, 8.2, 178.245, 63.1]\n",
            "[26, False, 'some words', 1.264]\n"
          ]
        }
      ]
    },
    {
      "cell_type": "markdown",
      "metadata": {
        "id": "5XqH6S4zfWjj"
      },
      "source": [
        "### Lists can also hold other lists! \n",
        "\n",
        "We can store any `type` of data in a `list`. We can even put a `list` inside of a `list`.\n",
        "\n",
        "In the list above you'll notice that there's no way to associate a name with a specific name with a specific age besides their position in the list, we can make this a little bit easier by storing lists inside of our list. A list that itself contains lists is sometime called a \"nested\" list or a \"two-dimensional\" list.\n",
        "\n",
        "We an better associate a name with an age by holding them each within a smaller list and then saving all of those to a larger list. \n"
      ]
    },
    {
      "cell_type": "code",
      "metadata": {
        "id": "8-XtK-jofWjk",
        "colab": {
          "base_uri": "https://localhost:8080/"
        },
        "outputId": "a1e4fa35-6d6f-4990-a101-cddba70346a3"
      },
      "source": [
        "list_of_lists = [\n",
        "    ['a', 'list', 'of', 'words'], \n",
        "    [1, 5, 209], \n",
        "    [True, True, False]\n",
        "    ]\n",
        "print(list_of_lists)"
      ],
      "execution_count": null,
      "outputs": [
        {
          "output_type": "stream",
          "name": "stdout",
          "text": [
            "[['a', 'list', 'of', 'words'], [1, 5, 209], [True, True, False]]\n"
          ]
        }
      ]
    },
    {
      "cell_type": "code",
      "source": [
        "list_of_lists[0]"
      ],
      "metadata": {
        "colab": {
          "base_uri": "https://localhost:8080/"
        },
        "id": "bkGU51xkef93",
        "outputId": "7dadefd5-19dd-4e5a-c47c-434e2c70f759"
      },
      "execution_count": null,
      "outputs": [
        {
          "output_type": "execute_result",
          "data": {
            "text/plain": [
              "['a', 'list', 'of', 'words']"
            ]
          },
          "metadata": {},
          "execution_count": 28
        }
      ]
    },
    {
      "cell_type": "code",
      "source": [
        "list_of_lists[0][3]"
      ],
      "metadata": {
        "colab": {
          "base_uri": "https://localhost:8080/",
          "height": 35
        },
        "id": "yMmsId_Kel9P",
        "outputId": "c83283e7-a121-4dab-9b60-d1e0d0236493"
      },
      "execution_count": null,
      "outputs": [
        {
          "output_type": "execute_result",
          "data": {
            "text/plain": [
              "'words'"
            ],
            "application/vnd.google.colaboratory.intrinsic+json": {
              "type": "string"
            }
          },
          "metadata": {},
          "execution_count": 29
        }
      ]
    },
    {
      "cell_type": "markdown",
      "metadata": {
        "id": "WbGaymYYfWjk"
      },
      "source": [
        "There are very few restrictions on how we structure a list or what we put in it. This can lead to a very complicated nested structure."
      ]
    },
    {
      "cell_type": "code",
      "metadata": {
        "id": "QJ3IyMrwfWjk",
        "colab": {
          "base_uri": "https://localhost:8080/"
        },
        "outputId": "6866c6c4-8ba5-4ed3-cfd3-597e8169cc69"
      },
      "source": [
        "confusing_list = [\n",
        "    [23, 73, 50], \n",
        "    'some words', \n",
        "    12.308, \n",
        "    [\n",
        "        [False, True]\n",
        "     , \n",
        "     'more words'\n",
        "     ]\n",
        "     ]\n",
        "\n",
        "print(confusing_list)"
      ],
      "execution_count": null,
      "outputs": [
        {
          "output_type": "stream",
          "name": "stdout",
          "text": [
            "[[23, 73, 50], 'some words', 12.308, [[False, True], 'more words']]\n"
          ]
        }
      ]
    },
    {
      "cell_type": "code",
      "source": [
        "confusing_list[0]"
      ],
      "metadata": {
        "colab": {
          "base_uri": "https://localhost:8080/"
        },
        "id": "wWvXR1XNfBvM",
        "outputId": "75ef49e9-d274-4cd3-f3e3-b3bb91e9846c"
      },
      "execution_count": null,
      "outputs": [
        {
          "output_type": "execute_result",
          "data": {
            "text/plain": [
              "[23, 73, 50]"
            ]
          },
          "metadata": {},
          "execution_count": 32
        }
      ]
    },
    {
      "cell_type": "code",
      "source": [
        "confusing_list[1]"
      ],
      "metadata": {
        "colab": {
          "base_uri": "https://localhost:8080/",
          "height": 35
        },
        "id": "Qgijefi7fFz1",
        "outputId": "dbb1c8d9-285e-445b-8073-a37078e67b71"
      },
      "execution_count": null,
      "outputs": [
        {
          "output_type": "execute_result",
          "data": {
            "text/plain": [
              "'some words'"
            ],
            "application/vnd.google.colaboratory.intrinsic+json": {
              "type": "string"
            }
          },
          "metadata": {},
          "execution_count": 33
        }
      ]
    },
    {
      "cell_type": "code",
      "source": [
        "confusing_list[3]"
      ],
      "metadata": {
        "colab": {
          "base_uri": "https://localhost:8080/"
        },
        "id": "JtlNKD7we3OR",
        "outputId": "34619234-43b1-4388-a7c2-276ddbcf0cfa"
      },
      "execution_count": null,
      "outputs": [
        {
          "output_type": "execute_result",
          "data": {
            "text/plain": [
              "[[False, True], 'more words']"
            ]
          },
          "metadata": {},
          "execution_count": 31
        }
      ]
    },
    {
      "cell_type": "code",
      "source": [
        "confusing_list[3][0]"
      ],
      "metadata": {
        "colab": {
          "base_uri": "https://localhost:8080/"
        },
        "id": "t_NTe01_e3nm",
        "outputId": "49fb2b66-57cd-4d77-dab0-035da9d91211"
      },
      "execution_count": null,
      "outputs": [
        {
          "output_type": "execute_result",
          "data": {
            "text/plain": [
              "[False, True]"
            ]
          },
          "metadata": {},
          "execution_count": 34
        }
      ]
    },
    {
      "cell_type": "code",
      "source": [
        "confusing_list[3][0][0]"
      ],
      "metadata": {
        "colab": {
          "base_uri": "https://localhost:8080/"
        },
        "id": "Nf4kRU9PfYBW",
        "outputId": "ef11d2a1-e946-4973-aa75-d8aacd1afa3c"
      },
      "execution_count": null,
      "outputs": [
        {
          "output_type": "execute_result",
          "data": {
            "text/plain": [
              "False"
            ]
          },
          "metadata": {},
          "execution_count": 35
        }
      ]
    },
    {
      "cell_type": "code",
      "source": [
        "confusing_list[3][0][1]"
      ],
      "metadata": {
        "colab": {
          "base_uri": "https://localhost:8080/"
        },
        "id": "0Y4riOYWfbpa",
        "outputId": "4bc6ef4c-1f42-4804-ed5c-23d5de07286e"
      },
      "execution_count": null,
      "outputs": [
        {
          "output_type": "execute_result",
          "data": {
            "text/plain": [
              "True"
            ]
          },
          "metadata": {},
          "execution_count": 36
        }
      ]
    },
    {
      "cell_type": "code",
      "metadata": {
        "id": "bWvcd6Nvghar",
        "colab": {
          "base_uri": "https://localhost:8080/"
        },
        "outputId": "3fdff089-8d42-4d8c-8416-5b7323fedb13"
      },
      "source": [
        "# Same idea, declare lists with []'s and separate elements with commas. Even if those elements are other lists.\n",
        "\n",
        "names_and_ages = [\"Popeye\", 24, \"Tabatha\", 23, \"Jerry\", 25, \"Flynn\", 23, \"Sally\", 40, \"Michael\", 46, \"Susie\", 19, \"Amanda\", 34]\n",
        "\n",
        "students = [           # Start with an open bracket\n",
        "    [\"Popeye\", 24],  # Each element is a list with 2 elements [name, age]\n",
        "    [\"Tabatha\", 23], # We still have to separate each item in our large list with commas\n",
        "    [\"Jerry\", 25],\n",
        "    [\"Flynn\", 23],    \n",
        "    [\"Sally\", 40],\n",
        "    [\"Michael\", 46],\n",
        "    [\"Susie\", 19],\n",
        "    [\"Amanda\", 34]\n",
        "]                   # End with a close bracket\n",
        "\n",
        "\n",
        "type(students)"
      ],
      "execution_count": null,
      "outputs": [
        {
          "output_type": "execute_result",
          "data": {
            "text/plain": [
              "list"
            ]
          },
          "metadata": {},
          "execution_count": 37
        }
      ]
    },
    {
      "cell_type": "code",
      "metadata": {
        "id": "JpPuTQgJgka-"
      },
      "source": [
        "# The code below is equivalent to the above code but with different whitespace.\n",
        "students = [[\"Popeye\", 24],[\"Tabatha\", 23],[\"Jerry\", 25],[\"Flynn\", 23],\n",
        "            [\"Sally\", 40],[\"Michael\", 46],[\"Susie\", 19],[\"Amanda\", 34]]\n",
        "\n",
        "# It's just a bit easier to take in the other way. "
      ],
      "execution_count": null,
      "outputs": []
    },
    {
      "cell_type": "code",
      "metadata": {
        "id": "J8tM8gjrgmNe",
        "colab": {
          "base_uri": "https://localhost:8080/"
        },
        "outputId": "b76678ea-b9fa-4e7a-f60e-3693c72a38ae"
      },
      "source": [
        "students"
      ],
      "execution_count": null,
      "outputs": [
        {
          "output_type": "execute_result",
          "data": {
            "text/plain": [
              "[['Popeye', 24],\n",
              " ['Tabatha', 23],\n",
              " ['Jerry', 25],\n",
              " ['Flynn', 23],\n",
              " ['Sally', 40],\n",
              " ['Michael', 46],\n",
              " ['Susie', 19],\n",
              " ['Amanda', 34]]"
            ]
          },
          "metadata": {},
          "execution_count": 39
        }
      ]
    },
    {
      "cell_type": "code",
      "source": [
        "students[0]"
      ],
      "metadata": {
        "colab": {
          "base_uri": "https://localhost:8080/"
        },
        "id": "UDipEGDjgslb",
        "outputId": "d9137f7e-bfc5-49cc-f1d4-dfba9212e8cf"
      },
      "execution_count": null,
      "outputs": [
        {
          "output_type": "execute_result",
          "data": {
            "text/plain": [
              "['Popeye', 24]"
            ]
          },
          "metadata": {},
          "execution_count": 40
        }
      ]
    },
    {
      "cell_type": "code",
      "source": [
        "students[1]"
      ],
      "metadata": {
        "colab": {
          "base_uri": "https://localhost:8080/"
        },
        "id": "At_ZGgH_guzQ",
        "outputId": "86b9ec3f-7b4b-4a36-a520-b6e679503bb8"
      },
      "execution_count": null,
      "outputs": [
        {
          "output_type": "execute_result",
          "data": {
            "text/plain": [
              "['Tabatha', 23]"
            ]
          },
          "metadata": {},
          "execution_count": 41
        }
      ]
    },
    {
      "cell_type": "markdown",
      "metadata": {
        "id": "VsNUbZ4YfWjk"
      },
      "source": [
        "We describe the Python `list` as _heterogeneous_ because it can hold a collection of mixed objects. This is one of the major defining properties of the Python `list`.\n",
        "\n",
        "You may have also noticed that when we put data into a `list` in particular order, it stays in that order when we `print` or use the `list` in a `for` loop. Because `list` preserves order, we say it is _ordered_. We can use this property to retrieve particular items from a `list` based on their position (or **index**) in the list."
      ]
    },
    {
      "cell_type": "code",
      "metadata": {
        "id": "1vKk0-Z7fWjl"
      },
      "source": [
        "print(grocery_list)\n",
        "print(grocery_list[2])"
      ],
      "execution_count": null,
      "outputs": []
    },
    {
      "cell_type": "markdown",
      "metadata": {
        "id": "MBxyviJwfWjl"
      },
      "source": [
        "Printing `grocery_list[2]` returned the third item in the list: 'rice'. Why did it return the third item if we asked for the item at index 2? Python `list`s are _zero-indexed_."
      ]
    },
    {
      "cell_type": "code",
      "metadata": {
        "id": "jJXNLLF_fWjl"
      },
      "source": [
        "print(grocery_list[0])\n",
        "print(grocery_list[1])\n",
        "print(grocery_list[2])"
      ],
      "execution_count": null,
      "outputs": []
    },
    {
      "cell_type": "markdown",
      "metadata": {
        "id": "GBYxwjdXgzpY"
      },
      "source": [
        "### Accessing Specific Items Within a List \n",
        "\n",
        "Like the other data types you've learned about, lists have their own behaviors and functionality.\n",
        "\n",
        "A list is no good to you if you can't access the elements inside it. Python uses something called \"indexing\" to keep track of where values are inside of a list. This means that each elemenet in a list is associated with an integer value that represents its position in a list. The tricky part about list indexing is that the index values start at 0 and not at 1 like the traditional counting numbers. This means that the item in the first position in the list is at index 0, the second item in the list is at index 1, the third item is at index position 2, etc. \n",
        "\n",
        "Let's practice accessing specific items within the lists we have created.\n",
        "\n",
        "To access a specific item within a list simply write the varaible name with square brackets on the end and then \"pass in\" -put inside of the square brackets- the index of the item that you want to retrieve. \n",
        "\n"
      ]
    },
    {
      "cell_type": "code",
      "metadata": {
        "id": "YWLwavLLg7ES",
        "colab": {
          "base_uri": "https://localhost:8080/"
        },
        "outputId": "d95aec85-2e26-488a-bb33-7a636f9754d0"
      },
      "source": [
        "ages"
      ],
      "execution_count": null,
      "outputs": [
        {
          "output_type": "execute_result",
          "data": {
            "text/plain": [
              "[24, 23, True, 23, 'Cat', 46, 19, 34]"
            ]
          },
          "metadata": {},
          "execution_count": 42
        }
      ]
    },
    {
      "cell_type": "code",
      "metadata": {
        "id": "x0b5bzSkg9hB",
        "colab": {
          "base_uri": "https://localhost:8080/"
        },
        "outputId": "2c98bb9b-987d-41f3-eeb0-08307ed49d4e"
      },
      "source": [
        "'''By adding brackets to the end of the list name and passing in an index value, \n",
        "Python will return the element that is at that particular index position in \n",
        "the given list. The first value is index 0 so...'''\n",
        "\n",
        "ages[0]"
      ],
      "execution_count": null,
      "outputs": [
        {
          "output_type": "execute_result",
          "data": {
            "text/plain": [
              "24"
            ]
          },
          "metadata": {},
          "execution_count": 43
        }
      ]
    },
    {
      "cell_type": "code",
      "metadata": {
        "id": "h8sV1rM5g_s6",
        "colab": {
          "base_uri": "https://localhost:8080/",
          "height": 35
        },
        "outputId": "05b027e6-ffc0-4e0b-8011-8b4c2e321a5e"
      },
      "source": [
        "# If we want the 5th element in the list, we use index 4.\n",
        "ages[4]"
      ],
      "execution_count": null,
      "outputs": [
        {
          "output_type": "execute_result",
          "data": {
            "text/plain": [
              "'Cat'"
            ],
            "application/vnd.google.colaboratory.intrinsic+json": {
              "type": "string"
            }
          },
          "metadata": {},
          "execution_count": 44
        }
      ]
    },
    {
      "cell_type": "markdown",
      "metadata": {
        "id": "B2iPWOLPhDMe"
      },
      "source": [
        "### Use negative index values to start from the back of the list"
      ]
    },
    {
      "cell_type": "code",
      "source": [
        "ages"
      ],
      "metadata": {
        "colab": {
          "base_uri": "https://localhost:8080/"
        },
        "id": "t8nJrh8ThJzI",
        "outputId": "ab076a5e-39c5-4689-c76e-45dba0a1be24"
      },
      "execution_count": null,
      "outputs": [
        {
          "output_type": "execute_result",
          "data": {
            "text/plain": [
              "[24, 23, True, 23, 'Cat', 46, 19, 34]"
            ]
          },
          "metadata": {},
          "execution_count": 45
        }
      ]
    },
    {
      "cell_type": "code",
      "source": [
        "ages[0]"
      ],
      "metadata": {
        "colab": {
          "base_uri": "https://localhost:8080/"
        },
        "id": "FM7n-UrlhQK7",
        "outputId": "d761d09a-5bdf-4938-d63e-2733b6f8b9de"
      },
      "execution_count": null,
      "outputs": [
        {
          "output_type": "execute_result",
          "data": {
            "text/plain": [
              "24"
            ]
          },
          "metadata": {},
          "execution_count": 46
        }
      ]
    },
    {
      "cell_type": "code",
      "metadata": {
        "id": "UTIJxeOehF3F",
        "colab": {
          "base_uri": "https://localhost:8080/"
        },
        "outputId": "233fe446-7ef1-43ac-9d78-e7d20147aa04"
      },
      "source": [
        "# To access the LAST element in the list, we can use -1.\n",
        "ages[-1]"
      ],
      "execution_count": null,
      "outputs": [
        {
          "output_type": "execute_result",
          "data": {
            "text/plain": [
              "34"
            ]
          },
          "metadata": {},
          "execution_count": 47
        }
      ]
    },
    {
      "cell_type": "code",
      "metadata": {
        "id": "YFcaXKPlhIEs",
        "colab": {
          "base_uri": "https://localhost:8080/"
        },
        "outputId": "6960dc6d-350d-4c73-ff34-890f204c2e25"
      },
      "source": [
        "# So let's say we want the 2nd to last element in the list:\n",
        "ages[-2]"
      ],
      "execution_count": null,
      "outputs": [
        {
          "output_type": "execute_result",
          "data": {
            "text/plain": [
              "19"
            ]
          },
          "metadata": {},
          "execution_count": 48
        }
      ]
    },
    {
      "cell_type": "markdown",
      "metadata": {
        "id": "aIttFWJ0hLe8"
      },
      "source": [
        "### Accessing items in two-dimensional lists.\n",
        "\n",
        "We can retrieve the lists (items) inside of a two-dimenaional list as if they were any other piece of information. No matter what we've stored in the list, the list indexing works the same."
      ]
    },
    {
      "cell_type": "markdown",
      "metadata": {
        "id": "OjmFVz-ahSEp"
      },
      "source": [
        "Lets access Sally's age, her list is in index position 4. "
      ]
    },
    {
      "cell_type": "code",
      "metadata": {
        "id": "pCtHWAq6hQdz"
      },
      "source": [
        "students[4]"
      ],
      "execution_count": null,
      "outputs": []
    },
    {
      "cell_type": "markdown",
      "metadata": {
        "id": "GxggNl4QhYB0"
      },
      "source": [
        "You'll see above that by indexing into the outer list was able to access Sally's inner list. I can then access items inside of Sally's inner list by adding another set of square brackets with the index corresponding to the value that I want to retrieve from the inner list."
      ]
    },
    {
      "cell_type": "code",
      "metadata": {
        "id": "H_KXSmmnhadO",
        "colab": {
          "base_uri": "https://localhost:8080/",
          "height": 35
        },
        "outputId": "ba02d26d-3f1a-45ee-de53-bf06ac3acac3"
      },
      "source": [
        "# Get the item at index position 4 in the outer list\n",
        "# then get the item at index position 0 of that item.\n",
        "students[4][0]"
      ],
      "execution_count": null,
      "outputs": [
        {
          "output_type": "execute_result",
          "data": {
            "text/plain": [
              "'Sally'"
            ],
            "application/vnd.google.colaboratory.intrinsic+json": {
              "type": "string"
            }
          },
          "metadata": {},
          "execution_count": 49
        }
      ]
    },
    {
      "cell_type": "code",
      "metadata": {
        "id": "LSecpqUmhcoO",
        "colab": {
          "base_uri": "https://localhost:8080/"
        },
        "outputId": "4ee92744-ba6e-4fdd-8226-14919857723d"
      },
      "source": [
        "students[4][1]"
      ],
      "execution_count": null,
      "outputs": [
        {
          "output_type": "execute_result",
          "data": {
            "text/plain": [
              "40"
            ]
          },
          "metadata": {},
          "execution_count": 50
        }
      ]
    },
    {
      "cell_type": "markdown",
      "metadata": {
        "id": "bxvHYVTZhe4c"
      },
      "source": [
        "We can nest lists inside of lists and go as deep as we need to with it, however in practice, we typically won't go further than a three-dimensional list. "
      ]
    },
    {
      "cell_type": "code",
      "metadata": {
        "id": "7GPK9Kwnhjmf"
      },
      "source": [
        "three_dimensional_list = ['cat', ['fish', 'shark', ['octopus', 'squid']], 'dog']"
      ],
      "execution_count": null,
      "outputs": []
    },
    {
      "cell_type": "code",
      "metadata": {
        "id": "aTrUls2yhlg-",
        "colab": {
          "base_uri": "https://localhost:8080/"
        },
        "outputId": "5463ae1d-0e18-4830-87cb-dc0d6a337e41"
      },
      "source": [
        "three_dimensional_list"
      ],
      "execution_count": null,
      "outputs": [
        {
          "output_type": "execute_result",
          "data": {
            "text/plain": [
              "['cat', ['fish', 'shark', ['octopus', 'squid']], 'dog']"
            ]
          },
          "metadata": {},
          "execution_count": 52
        }
      ]
    },
    {
      "cell_type": "code",
      "metadata": {
        "id": "gnwoqGF1hnYQ",
        "colab": {
          "base_uri": "https://localhost:8080/"
        },
        "outputId": "ec4dd879-470c-45ae-b836-7e5da5bf1b37"
      },
      "source": [
        "three_dimensional_list[1]"
      ],
      "execution_count": null,
      "outputs": [
        {
          "output_type": "execute_result",
          "data": {
            "text/plain": [
              "['fish', 'shark', ['octopus', 'squid']]"
            ]
          },
          "metadata": {},
          "execution_count": 53
        }
      ]
    },
    {
      "cell_type": "code",
      "metadata": {
        "id": "ohOKfCi5hpba",
        "colab": {
          "base_uri": "https://localhost:8080/",
          "height": 35
        },
        "outputId": "3924cbaa-9e21-43b2-e9b5-4a225430ce16"
      },
      "source": [
        "three_dimensional_list[1][0]"
      ],
      "execution_count": null,
      "outputs": [
        {
          "output_type": "execute_result",
          "data": {
            "text/plain": [
              "'fish'"
            ],
            "application/vnd.google.colaboratory.intrinsic+json": {
              "type": "string"
            }
          },
          "metadata": {},
          "execution_count": 54
        }
      ]
    },
    {
      "cell_type": "code",
      "metadata": {
        "id": "ST0UvtJnhrXD",
        "colab": {
          "base_uri": "https://localhost:8080/",
          "height": 35
        },
        "outputId": "0c92c681-da82-42ef-bee8-b7603b4beece"
      },
      "source": [
        "three_dimensional_list[1][1]"
      ],
      "execution_count": null,
      "outputs": [
        {
          "output_type": "execute_result",
          "data": {
            "text/plain": [
              "'shark'"
            ],
            "application/vnd.google.colaboratory.intrinsic+json": {
              "type": "string"
            }
          },
          "metadata": {},
          "execution_count": 55
        }
      ]
    },
    {
      "cell_type": "code",
      "metadata": {
        "id": "SM5Y7JbBhtQy",
        "colab": {
          "base_uri": "https://localhost:8080/"
        },
        "outputId": "664ceb94-ae47-4abc-870a-fb4c53d0c6ba"
      },
      "source": [
        "three_dimensional_list[1][2]"
      ],
      "execution_count": null,
      "outputs": [
        {
          "output_type": "execute_result",
          "data": {
            "text/plain": [
              "['octopus', 'squid']"
            ]
          },
          "metadata": {},
          "execution_count": 56
        }
      ]
    },
    {
      "cell_type": "code",
      "metadata": {
        "id": "rIcBzHmihvJD",
        "colab": {
          "base_uri": "https://localhost:8080/",
          "height": 35
        },
        "outputId": "d92ba505-6584-4828-a6af-81fa8b4fcaf3"
      },
      "source": [
        "three_dimensional_list[1][2][0]"
      ],
      "execution_count": null,
      "outputs": [
        {
          "output_type": "execute_result",
          "data": {
            "text/plain": [
              "'octopus'"
            ],
            "application/vnd.google.colaboratory.intrinsic+json": {
              "type": "string"
            }
          },
          "metadata": {},
          "execution_count": 57
        }
      ]
    },
    {
      "cell_type": "code",
      "metadata": {
        "id": "e5iAg75EhxGe",
        "colab": {
          "base_uri": "https://localhost:8080/",
          "height": 35
        },
        "outputId": "993723e4-b334-483f-ee72-a586d6bf15ec"
      },
      "source": [
        "three_dimensional_list[1][2][1]"
      ],
      "execution_count": null,
      "outputs": [
        {
          "output_type": "execute_result",
          "data": {
            "text/plain": [
              "'squid'"
            ],
            "application/vnd.google.colaboratory.intrinsic+json": {
              "type": "string"
            }
          },
          "metadata": {},
          "execution_count": 58
        }
      ]
    },
    {
      "cell_type": "markdown",
      "metadata": {
        "id": "vX2Nhgzvh0Y6"
      },
      "source": [
        "### Slicing Lists (subsetting)\n",
        "\n",
        "We can use list *slicing* techniques in order to retrieve multiple items. Instead of passing in a single index value we will pass in a start index and an end index separated by a colon to retrieve any items within that range.\n",
        "\n",
        "The basic structure is my_list[start:end] where the start index is inclusive, and the end index is exclusive. In other words, from the start, up to (but not including) the end. \n",
        "\n",
        "Let's try it:"
      ]
    },
    {
      "cell_type": "code",
      "metadata": {
        "id": "l-q97WF_h22e",
        "colab": {
          "base_uri": "https://localhost:8080/"
        },
        "outputId": "7ad13ff1-7f58-4314-815b-bc535d6a89c0"
      },
      "source": [
        "students"
      ],
      "execution_count": null,
      "outputs": [
        {
          "output_type": "execute_result",
          "data": {
            "text/plain": [
              "[['Popeye', 24],\n",
              " ['Tabatha', 23],\n",
              " ['Jerry', 25],\n",
              " ['Flynn', 23],\n",
              " ['Sally', 40],\n",
              " ['Michael', 46],\n",
              " ['Susie', 19],\n",
              " ['Amanda', 34]]"
            ]
          },
          "metadata": {},
          "execution_count": 59
        }
      ]
    },
    {
      "cell_type": "code",
      "metadata": {
        "id": "w-xkAp_nh-14",
        "colab": {
          "base_uri": "https://localhost:8080/"
        },
        "outputId": "24bdc31e-2af0-4ce6-86e4-d5307c7fa75f"
      },
      "source": [
        "# Let's say we want Tabatha and Jerry's information:\n",
        "# my_list[start : end]\n",
        "\n",
        "students[1:3]"
      ],
      "execution_count": null,
      "outputs": [
        {
          "output_type": "execute_result",
          "data": {
            "text/plain": [
              "[['Tabatha', 23], ['Jerry', 25]]"
            ]
          },
          "metadata": {},
          "execution_count": 60
        }
      ]
    },
    {
      "cell_type": "code",
      "source": [
        "students"
      ],
      "metadata": {
        "colab": {
          "base_uri": "https://localhost:8080/"
        },
        "id": "jZC-drpyiqJg",
        "outputId": "a2bc090c-8120-42a9-de77-496005be9130"
      },
      "execution_count": null,
      "outputs": [
        {
          "output_type": "execute_result",
          "data": {
            "text/plain": [
              "[['Popeye', 24],\n",
              " ['Tabatha', 23],\n",
              " ['Jerry', 25],\n",
              " ['Flynn', 23],\n",
              " ['Sally', 40],\n",
              " ['Michael', 46],\n",
              " ['Susie', 19],\n",
              " ['Amanda', 34]]"
            ]
          },
          "metadata": {},
          "execution_count": 62
        }
      ]
    },
    {
      "cell_type": "code",
      "metadata": {
        "id": "wdwAczdtiBAb",
        "colab": {
          "base_uri": "https://localhost:8080/"
        },
        "outputId": "7686787a-fd98-45c1-ad75-5d23d3641f57"
      },
      "source": [
        "# Now let's say we want Sally and Michael's information but want to access it \n",
        "# by indexing from the back of the list:\n",
        "# my_list[-start : -end]\n",
        "\n",
        "students[-4:-2]"
      ],
      "execution_count": null,
      "outputs": [
        {
          "output_type": "execute_result",
          "data": {
            "text/plain": [
              "[['Sally', 40], ['Michael', 46]]"
            ]
          },
          "metadata": {},
          "execution_count": 61
        }
      ]
    },
    {
      "cell_type": "markdown",
      "metadata": {
        "id": "5nYoh2MpiLAz"
      },
      "source": [
        "If we don't provide a start or end position, then Python will assume that we meant the start or end of the list. \n",
        "\n"
      ]
    },
    {
      "cell_type": "code",
      "source": [
        "students"
      ],
      "metadata": {
        "colab": {
          "base_uri": "https://localhost:8080/"
        },
        "id": "XPiqHsFFj6W9",
        "outputId": "e21f4d8c-ec58-4613-b8b6-f86b897894ed"
      },
      "execution_count": null,
      "outputs": [
        {
          "output_type": "execute_result",
          "data": {
            "text/plain": [
              "[['Popeye', 24],\n",
              " ['Tabatha', 23],\n",
              " ['Jerry', 25],\n",
              " ['Flynn', 23],\n",
              " ['Sally', 40],\n",
              " ['Michael', 46],\n",
              " ['Susie', 19],\n",
              " ['Amanda', 34]]"
            ]
          },
          "metadata": {},
          "execution_count": 64
        }
      ]
    },
    {
      "cell_type": "code",
      "metadata": {
        "id": "xLWPIBJJiO75",
        "colab": {
          "base_uri": "https://localhost:8080/"
        },
        "outputId": "6b48207f-b6be-4b40-b4cb-47a61b0450c6"
      },
      "source": [
        "# From the beginning of the list to the third element (not including the third)\n",
        "# my_list[:end]\n",
        "\n",
        "students[:3]\n",
        "\n",
        "# Remember, we're actually getting elements 0, 1  and 2.\n",
        "## The element at index 3 would be Flynn's info, but because slicing returns\n",
        "## up to by not including include whatever index is provided second."
      ],
      "execution_count": null,
      "outputs": [
        {
          "output_type": "execute_result",
          "data": {
            "text/plain": [
              "[['Popeye', 24], ['Tabatha', 23], ['Jerry', 25]]"
            ]
          },
          "metadata": {},
          "execution_count": 65
        }
      ]
    },
    {
      "cell_type": "code",
      "source": [
        "students"
      ],
      "metadata": {
        "colab": {
          "base_uri": "https://localhost:8080/"
        },
        "id": "GMXP4I_wkIAv",
        "outputId": "17f67916-b61d-4123-c7a1-5ec43e32f003"
      },
      "execution_count": null,
      "outputs": [
        {
          "output_type": "execute_result",
          "data": {
            "text/plain": [
              "[['Popeye', 24],\n",
              " ['Tabatha', 23],\n",
              " ['Jerry', 25],\n",
              " ['Flynn', 23],\n",
              " ['Sally', 40],\n",
              " ['Michael', 46],\n",
              " ['Susie', 19],\n",
              " ['Amanda', 34]]"
            ]
          },
          "metadata": {},
          "execution_count": 66
        }
      ]
    },
    {
      "cell_type": "code",
      "metadata": {
        "id": "8ensa-8diRkw",
        "colab": {
          "base_uri": "https://localhost:8080/"
        },
        "outputId": "adaccf30-52e3-4a56-f906-7994481c85a6"
      },
      "source": [
        "# From index 4 to the end of the list\n",
        "# my_list[start:]\n",
        "students[4:]"
      ],
      "execution_count": null,
      "outputs": [
        {
          "output_type": "execute_result",
          "data": {
            "text/plain": [
              "[['Sally', 40], ['Michael', 46], ['Susie', 19], ['Amanda', 34]]"
            ]
          },
          "metadata": {},
          "execution_count": 67
        }
      ]
    },
    {
      "cell_type": "code",
      "source": [
        "students"
      ],
      "metadata": {
        "colab": {
          "base_uri": "https://localhost:8080/"
        },
        "id": "j7jJmvgwkbOn",
        "outputId": "6845dfcb-a526-4f97-8542-c8b497a0a714"
      },
      "execution_count": null,
      "outputs": [
        {
          "output_type": "execute_result",
          "data": {
            "text/plain": [
              "[['Popeye', 24],\n",
              " ['Tabatha', 23],\n",
              " ['Jerry', 25],\n",
              " ['Flynn', 23],\n",
              " ['Sally', 40],\n",
              " ['Michael', 46],\n",
              " ['Susie', 19],\n",
              " ['Amanda', 34]]"
            ]
          },
          "metadata": {},
          "execution_count": 71
        }
      ]
    },
    {
      "cell_type": "code",
      "source": [
        "# my_list[start:end]\n",
        "\n",
        "# my_list[start:end:step]\n",
        "\n",
        "students[::3]"
      ],
      "metadata": {
        "colab": {
          "base_uri": "https://localhost:8080/"
        },
        "id": "32Mlj03Dkdi-",
        "outputId": "355af1ca-f11b-419c-fef3-49dc663723a9"
      },
      "execution_count": null,
      "outputs": [
        {
          "output_type": "execute_result",
          "data": {
            "text/plain": [
              "[['Popeye', 24], ['Flynn', 23], ['Susie', 19]]"
            ]
          },
          "metadata": {},
          "execution_count": 74
        }
      ]
    },
    {
      "cell_type": "markdown",
      "metadata": {
        "id": "ROH4i1gphieB"
      },
      "source": [
        "***More***"
      ]
    },
    {
      "cell_type": "markdown",
      "source": [],
      "metadata": {
        "id": "cUNTNvhpkRZQ"
      }
    },
    {
      "cell_type": "markdown",
      "metadata": {
        "id": "ETcXb6CgfWjm"
      },
      "source": [
        "We can also retrieve a _slice_ of items from a list."
      ]
    },
    {
      "cell_type": "code",
      "metadata": {
        "id": "89TjRfI2fWjm",
        "colab": {
          "base_uri": "https://localhost:8080/"
        },
        "outputId": "17a79f23-e323-4eff-8694-c70db2ab6c27"
      },
      "source": [
        "print(grocery_list[1:4])\n",
        "print(grocery_list[3:])\n",
        "print(grocery_list[:3])"
      ],
      "execution_count": null,
      "outputs": [
        {
          "output_type": "stream",
          "name": "stdout",
          "text": [
            "['onions', 'rice', 'peppers']\n",
            "['peppers', 'bananas']\n",
            "['chicken', 'onions', 'rice']\n"
          ]
        }
      ]
    },
    {
      "cell_type": "markdown",
      "metadata": {
        "id": "4YfhEVaKfWjm"
      },
      "source": [
        "Python also has a negative indexing syntax, allowing us to access the list from the end instead of the beginning. The last element is indexed by -1."
      ]
    },
    {
      "cell_type": "code",
      "metadata": {
        "id": "TuwH841tfWjm",
        "colab": {
          "base_uri": "https://localhost:8080/"
        },
        "outputId": "f89538de-cc8d-47ff-859e-8d417d81f6da"
      },
      "source": [
        "print(grocery_list[-1])\n",
        "print(grocery_list[-3:])"
      ],
      "execution_count": null,
      "outputs": [
        {
          "output_type": "stream",
          "name": "stdout",
          "text": [
            "bananas\n",
            "['rice', 'peppers', 'bananas']\n"
          ]
        }
      ]
    },
    {
      "cell_type": "markdown",
      "metadata": {
        "id": "1bZOe17mfWjn"
      },
      "source": [
        "We can also slice a list using a step-size other than 1. For instance, we can slice every other item of the list, or even reverse the list by making negative steps."
      ]
    },
    {
      "cell_type": "code",
      "metadata": {
        "id": "zBUTgXXYfWjn",
        "colab": {
          "base_uri": "https://localhost:8080/"
        },
        "outputId": "6f34c6eb-f85d-4569-d8af-e331b68197b8"
      },
      "source": [
        "print(grocery_list[::2])\n",
        "print(grocery_list[4:1:-1])"
      ],
      "execution_count": null,
      "outputs": [
        {
          "output_type": "stream",
          "name": "stdout",
          "text": [
            "['chicken', 'rice', 'bananas']\n",
            "['bananas', 'peppers', 'rice']\n"
          ]
        }
      ]
    },
    {
      "cell_type": "markdown",
      "metadata": {
        "id": "hla8FdT0fWjn"
      },
      "source": [
        "We can of course also retrieve information from a list by using a `for` loop."
      ]
    },
    {
      "cell_type": "code",
      "metadata": {
        "id": "JOtb2OApfWjo",
        "colab": {
          "base_uri": "https://localhost:8080/"
        },
        "outputId": "f767efc4-c14d-47cb-d862-5bd23b2e30b8"
      },
      "source": [
        "for item in students:\n",
        "    print(item)"
      ],
      "execution_count": null,
      "outputs": [
        {
          "output_type": "stream",
          "name": "stdout",
          "text": [
            "['Popeye', 24]\n",
            "['Tabatha', 23]\n",
            "['Jerry', 25]\n",
            "['Flynn', 23]\n",
            "['Sally', 40]\n",
            "['Michael', 46]\n",
            "['Susie', 19]\n",
            "['Amanda', 34]\n"
          ]
        }
      ]
    },
    {
      "cell_type": "markdown",
      "metadata": {
        "id": "UVqIJjDlfWjo"
      },
      "source": [
        "While we'll usually use the syntax `for item in list`, sometimes we will combine a `for` loop with indexing. The `range` function (which we used in the last notebook) is useful for this. For example, we can pick out every other item in the list."
      ]
    },
    {
      "cell_type": "code",
      "source": [
        "?range # iterable\n",
        "\n",
        "# range(start index : end index)\n",
        "\n",
        "# range(start : end index : step size)"
      ],
      "metadata": {
        "id": "LtdAyKJelVyk"
      },
      "execution_count": null,
      "outputs": []
    },
    {
      "cell_type": "code",
      "source": [
        "students"
      ],
      "metadata": {
        "colab": {
          "base_uri": "https://localhost:8080/"
        },
        "id": "zHPvVA6gl8Ub",
        "outputId": "ed5c2fa9-0712-4041-a5cf-5906bef86e2c"
      },
      "execution_count": null,
      "outputs": [
        {
          "output_type": "execute_result",
          "data": {
            "text/plain": [
              "[['Popeye', 24],\n",
              " ['Tabatha', 23],\n",
              " ['Jerry', 25],\n",
              " ['Flynn', 23],\n",
              " ['Sally', 40],\n",
              " ['Michael', 46],\n",
              " ['Susie', 19],\n",
              " ['Amanda', 34]]"
            ]
          },
          "metadata": {},
          "execution_count": 81
        }
      ]
    },
    {
      "cell_type": "code",
      "metadata": {
        "id": "ME-AFALefWjo",
        "colab": {
          "base_uri": "https://localhost:8080/"
        },
        "outputId": "f966fc61-5f8f-4ffd-a9f1-55cbc480e2d5"
      },
      "source": [
        "for i in range(0, len(students), 2):\n",
        "    print(i, students[i])"
      ],
      "execution_count": null,
      "outputs": [
        {
          "output_type": "stream",
          "name": "stdout",
          "text": [
            "0 ['Popeye', 24]\n",
            "2 ['Jerry', 25]\n",
            "4 ['Sally', 40]\n",
            "6 ['Susie', 19]\n"
          ]
        }
      ]
    },
    {
      "cell_type": "markdown",
      "metadata": {
        "id": "lhM5oR66fWjp"
      },
      "source": [
        "The `range` function creates a list of integers between the first and second argument, using the third argument as the step size. Notice that the upper bound (i.e. second argument) is not included in the output."
      ]
    },
    {
      "cell_type": "code",
      "source": [
        "[x for  x in range(0, 10)]"
      ],
      "metadata": {
        "colab": {
          "base_uri": "https://localhost:8080/"
        },
        "id": "sZvCtnmFmL5C",
        "outputId": "45028785-5434-4555-8302-d85172d06cfd"
      },
      "execution_count": null,
      "outputs": [
        {
          "output_type": "execute_result",
          "data": {
            "text/plain": [
              "[0, 1, 2, 3, 4, 5, 6, 7, 8, 9]"
            ]
          },
          "metadata": {},
          "execution_count": 91
        }
      ]
    },
    {
      "cell_type": "code",
      "source": [
        "list_of_numbers = []\n",
        "for x in range(0, 10):\n",
        "  list_of_numbers.append(x)\n",
        "\n",
        "print(list_of_numbers)"
      ],
      "metadata": {
        "colab": {
          "base_uri": "https://localhost:8080/"
        },
        "id": "24mhfwBhmo-U",
        "outputId": "f3e248f9-805e-4bb4-9226-c2819ca813e1"
      },
      "execution_count": null,
      "outputs": [
        {
          "output_type": "stream",
          "name": "stdout",
          "text": [
            "[0, 1, 2, 3, 4, 5, 6, 7, 8, 9]\n"
          ]
        }
      ]
    },
    {
      "cell_type": "code",
      "metadata": {
        "id": "Z7ePdgEufWjp",
        "colab": {
          "base_uri": "https://localhost:8080/"
        },
        "outputId": "7f3e7e94-ad02-417e-e334-dfcb9d9fa0e6"
      },
      "source": [
        "print(range(0, 10, 3))\n",
        "print(range(104, 100, -1))\n",
        "print(range(5)) # starts at 0 and counts by 1 by default"
      ],
      "execution_count": null,
      "outputs": [
        {
          "output_type": "stream",
          "name": "stdout",
          "text": [
            "range(0, 10, 3)\n",
            "range(104, 100, -1)\n",
            "range(0, 5)\n"
          ]
        }
      ]
    },
    {
      "cell_type": "markdown",
      "metadata": {
        "id": "thPW_rU8jA2R"
      },
      "source": [
        "### Changing Elements Within a List\n",
        "\n",
        "We can change an element within a list by accessing that element via its index and then reassigning that index to a new value\n"
      ]
    },
    {
      "cell_type": "code",
      "source": [
        "ages"
      ],
      "metadata": {
        "colab": {
          "base_uri": "https://localhost:8080/"
        },
        "id": "79hnj1HVnsN6",
        "outputId": "5b2ac316-ed0b-4b04-b2d5-96b645452323"
      },
      "execution_count": null,
      "outputs": [
        {
          "output_type": "execute_result",
          "data": {
            "text/plain": [
              "[24, 23, True, 23, 'Cat', 46, 19, 34]"
            ]
          },
          "metadata": {},
          "execution_count": 92
        }
      ]
    },
    {
      "cell_type": "code",
      "metadata": {
        "id": "7YcEYBWljGeQ",
        "colab": {
          "base_uri": "https://localhost:8080/"
        },
        "outputId": "e3668e26-c2fb-4be3-8ed1-7753a822a4d7"
      },
      "source": [
        "# The third age in our ages list is 25\n",
        "ages[2]"
      ],
      "execution_count": null,
      "outputs": [
        {
          "output_type": "execute_result",
          "data": {
            "text/plain": [
              "True"
            ]
          },
          "metadata": {},
          "execution_count": 93
        }
      ]
    },
    {
      "cell_type": "code",
      "metadata": {
        "id": "LIQxNsuXjIrN"
      },
      "source": [
        "# Let's change it to 26\n",
        "ages[2] = 26"
      ],
      "execution_count": null,
      "outputs": []
    },
    {
      "cell_type": "code",
      "source": [
        "ages"
      ],
      "metadata": {
        "colab": {
          "base_uri": "https://localhost:8080/"
        },
        "id": "dkLlQJcJn03-",
        "outputId": "2f986a52-03a1-4230-d416-5aec1ba89e64"
      },
      "execution_count": null,
      "outputs": [
        {
          "output_type": "execute_result",
          "data": {
            "text/plain": [
              "[24, 23, 26, 23, 'Cat', 46, 19, 34]"
            ]
          },
          "metadata": {},
          "execution_count": 95
        }
      ]
    },
    {
      "cell_type": "code",
      "metadata": {
        "id": "m6vxZLbNjK6N",
        "colab": {
          "base_uri": "https://localhost:8080/"
        },
        "outputId": "05f749ea-0246-4f5e-90d1-c725f1d81f64"
      },
      "source": [
        "# Look at Ages List\n",
        "ages"
      ],
      "execution_count": null,
      "outputs": [
        {
          "output_type": "execute_result",
          "data": {
            "text/plain": [
              "[24, 23, 26, 23, 'Cat', 46, 19, 34]"
            ]
          },
          "metadata": {},
          "execution_count": 96
        }
      ]
    },
    {
      "cell_type": "markdown",
      "metadata": {
        "id": "stPZUM-cfWjp"
      },
      "source": [
        "We can also use indexing/slicing to replace items in the list."
      ]
    },
    {
      "cell_type": "code",
      "metadata": {
        "id": "br8c7sqrfWjp",
        "colab": {
          "base_uri": "https://localhost:8080/"
        },
        "outputId": "3b7d4e4e-817e-4fd3-dba8-20dfbf1f5ad8"
      },
      "source": [
        "grocery_list = ['chicken', 'onions', 'rice', 'peppers', 'bananas']\n",
        "print(grocery_list)"
      ],
      "execution_count": null,
      "outputs": [
        {
          "output_type": "stream",
          "name": "stdout",
          "text": [
            "['chicken', 'onions', 'rice', 'peppers', 'bananas']\n"
          ]
        }
      ]
    },
    {
      "cell_type": "code",
      "source": [
        "grocery_list[-1] = 'oranges' # replace bananas with oranges\n",
        "print(grocery_list)"
      ],
      "metadata": {
        "colab": {
          "base_uri": "https://localhost:8080/"
        },
        "id": "RssLKAdJn_hK",
        "outputId": "0f2b066c-1dd8-4a1e-a201-1e4fa0b9e0f0"
      },
      "execution_count": null,
      "outputs": [
        {
          "output_type": "stream",
          "name": "stdout",
          "text": [
            "['chicken', 'onions', 'rice', 'peppers', 'oranges']\n"
          ]
        }
      ]
    },
    {
      "cell_type": "code",
      "source": [
        "grocery_list[1:3] = ['carrots', 'couscous'] #replace onions and rice with carrots and couscous\n",
        "print(grocery_list)"
      ],
      "metadata": {
        "colab": {
          "base_uri": "https://localhost:8080/"
        },
        "id": "h5AfMB9QoFPv",
        "outputId": "450349fc-da67-4fd7-e587-ce62eedca4ed"
      },
      "execution_count": null,
      "outputs": [
        {
          "output_type": "stream",
          "name": "stdout",
          "text": [
            "['chicken', 'carrots', 'couscous', 'peppers', 'oranges']\n"
          ]
        }
      ]
    },
    {
      "cell_type": "markdown",
      "metadata": {
        "id": "fcx-N00Vifji"
      },
      "source": [
        "### Adding Elements to a List"
      ]
    },
    {
      "cell_type": "markdown",
      "metadata": {
        "id": "INVQBc8Gijl5"
      },
      "source": [
        "One of the easiest ways to add elements to a list is by using the `.append()` method. We can call this method on any list variable and pass in (put inside of the parenthesis) the value that we want to *append* to the end of the list"
      ]
    },
    {
      "cell_type": "code",
      "metadata": {
        "id": "LCxxzMc0imh4"
      },
      "source": [
        "ages = [24, 23, 25, 23, 40, 46, 19, 34]"
      ],
      "execution_count": null,
      "outputs": []
    },
    {
      "cell_type": "code",
      "source": [
        "ages"
      ],
      "metadata": {
        "colab": {
          "base_uri": "https://localhost:8080/"
        },
        "id": "vngbDnIboXx0",
        "outputId": "8e1c33f4-f56b-400b-d7a6-f5b0d20ae251"
      },
      "execution_count": null,
      "outputs": [
        {
          "output_type": "execute_result",
          "data": {
            "text/plain": [
              "[24, 23, 25, 23, 40, 46, 19, 34]"
            ]
          },
          "metadata": {},
          "execution_count": 101
        }
      ]
    },
    {
      "cell_type": "code",
      "metadata": {
        "id": "LfXZme1eio81"
      },
      "source": [
        "ages.append(30)"
      ],
      "execution_count": null,
      "outputs": []
    },
    {
      "cell_type": "code",
      "metadata": {
        "id": "Sj33oTBEirOB",
        "colab": {
          "base_uri": "https://localhost:8080/"
        },
        "outputId": "f24b335d-22b9-4ca4-a54e-9c0de016351d"
      },
      "source": [
        "ages"
      ],
      "execution_count": null,
      "outputs": [
        {
          "output_type": "execute_result",
          "data": {
            "text/plain": [
              "[24, 23, 25, 23, 40, 46, 19, 34, 30]"
            ]
          },
          "metadata": {},
          "execution_count": 103
        }
      ]
    },
    {
      "cell_type": "markdown",
      "metadata": {
        "id": "Bh0EU4q1it1v"
      },
      "source": [
        "You can append anything that you want to the end of a list. Remember, that lists can hold any datatype so Python won't stop me if I add something silly to the end of my list of ages."
      ]
    },
    {
      "cell_type": "code",
      "metadata": {
        "id": "n_8X_T2Qiv9v"
      },
      "source": [
        "ages.append(\"OSTEMB School\")"
      ],
      "execution_count": null,
      "outputs": []
    },
    {
      "cell_type": "code",
      "metadata": {
        "id": "QotS6_4OiyIX",
        "colab": {
          "base_uri": "https://localhost:8080/"
        },
        "outputId": "f90a8928-3b90-4223-a57b-c46fe7841a79"
      },
      "source": [
        "ages"
      ],
      "execution_count": null,
      "outputs": [
        {
          "output_type": "execute_result",
          "data": {
            "text/plain": [
              "[24, 23, 25, 23, 40, 46, 19, 34, 30, 'OSTEMB School']"
            ]
          },
          "metadata": {},
          "execution_count": 105
        }
      ]
    },
    {
      "cell_type": "markdown",
      "metadata": {
        "id": "TXJ40Nuwi0im"
      },
      "source": [
        "I can *insert* values into a specific place within a list using the `.insert()` method. We have to pass in two arguments to the insert method. The first is the index where we want to insert the new item, and the second is the item that we want to put into the list."
      ]
    },
    {
      "cell_type": "code",
      "source": [
        "ages"
      ],
      "metadata": {
        "colab": {
          "base_uri": "https://localhost:8080/"
        },
        "id": "HKCFCoyhotAs",
        "outputId": "3ac6cb07-4a87-4fef-a4cf-da8f074290be"
      },
      "execution_count": null,
      "outputs": [
        {
          "output_type": "execute_result",
          "data": {
            "text/plain": [
              "[24, 23, 25, 23, 40, 46, 19, 34, 30, 'OSTEMB School']"
            ]
          },
          "metadata": {},
          "execution_count": 106
        }
      ]
    },
    {
      "cell_type": "code",
      "metadata": {
        "id": "MtscEy_ji4Hz"
      },
      "source": [
        "ages.insert(4, 3.141592)"
      ],
      "execution_count": null,
      "outputs": []
    },
    {
      "cell_type": "code",
      "metadata": {
        "id": "9SgAX_Fci6Vk",
        "colab": {
          "base_uri": "https://localhost:8080/"
        },
        "outputId": "ba577bc9-496d-4ee8-9574-bed44a2818ce"
      },
      "source": [
        "ages"
      ],
      "execution_count": null,
      "outputs": [
        {
          "output_type": "execute_result",
          "data": {
            "text/plain": [
              "[24, 23, 25, 23, 3.141592, 40, 46, 19, 34, 30, 'OSTEMB School']"
            ]
          },
          "metadata": {},
          "execution_count": 108
        }
      ]
    },
    {
      "cell_type": "markdown",
      "metadata": {
        "id": "DTeMFfY6fWjq"
      },
      "source": [
        "Since we can modify lists after they are created, we call them _mutable_ (the modifications are called _mutations_). Some Python data types are _immutable_, meaning once they are created they cannot be changed. We'll explore this further as we introduce more data types.\n",
        "\n",
        "Another way we can mutate a `list` is to `append` new items."
      ]
    },
    {
      "cell_type": "code",
      "metadata": {
        "id": "NyP-ZUuYfWjq",
        "colab": {
          "base_uri": "https://localhost:8080/"
        },
        "outputId": "cd458085-6cf9-4292-e8d5-650b1a682455"
      },
      "source": [
        "grocery_list = ['chicken', 'onions', 'rice', 'peppers', 'bananas']\n",
        "print(grocery_list)"
      ],
      "execution_count": null,
      "outputs": [
        {
          "output_type": "stream",
          "name": "stdout",
          "text": [
            "['chicken', 'onions', 'rice', 'peppers', 'bananas']\n"
          ]
        }
      ]
    },
    {
      "cell_type": "code",
      "source": [
        "grocery_list.append('squash')\n",
        "print(grocery_list)"
      ],
      "metadata": {
        "colab": {
          "base_uri": "https://localhost:8080/"
        },
        "id": "uofre21KpEkD",
        "outputId": "5929a54a-1aab-4db1-d5ac-7c2e4c0a4f6e"
      },
      "execution_count": null,
      "outputs": [
        {
          "output_type": "stream",
          "name": "stdout",
          "text": [
            "['chicken', 'onions', 'rice', 'peppers', 'bananas', 'squash']\n"
          ]
        }
      ]
    },
    {
      "cell_type": "code",
      "source": [
        "grocery_list.append(['bread', 'salt'])\n",
        "print(grocery_list) # what happened?"
      ],
      "metadata": {
        "colab": {
          "base_uri": "https://localhost:8080/"
        },
        "id": "CHvrOXk6pGfw",
        "outputId": "74f402b7-97c7-4f17-b594-467008ba1dbd"
      },
      "execution_count": null,
      "outputs": [
        {
          "output_type": "stream",
          "name": "stdout",
          "text": [
            "['chicken', 'onions', 'rice', 'peppers', 'bananas', 'squash', ['bread', 'salt']]\n"
          ]
        }
      ]
    },
    {
      "cell_type": "markdown",
      "metadata": {
        "id": "RmXBbE9jfWjr"
      },
      "source": [
        "Since lists can contain lists, we have to be careful about adding multiple items to our list. Instead of `append`, we might want to use `extend`."
      ]
    },
    {
      "cell_type": "code",
      "metadata": {
        "id": "Bk9dlrLyfWjr",
        "colab": {
          "base_uri": "https://localhost:8080/"
        },
        "outputId": "91489f58-68bb-4ef6-d511-938f3489cbe5"
      },
      "source": [
        "grocery_list = ['chicken', 'onions', 'rice', 'peppers', 'bananas', 'squash']\n",
        "print(grocery_list)\n",
        "grocery_list.extend(['bread', 'salt'])\n",
        "print(grocery_list)"
      ],
      "execution_count": null,
      "outputs": [
        {
          "output_type": "stream",
          "name": "stdout",
          "text": [
            "['chicken', 'onions', 'rice', 'peppers', 'bananas', 'squash']\n",
            "['chicken', 'onions', 'rice', 'peppers', 'bananas', 'squash', 'bread', 'salt']\n"
          ]
        }
      ]
    },
    {
      "cell_type": "markdown",
      "metadata": {
        "id": "F-deGlXslKeY"
      },
      "source": [
        "### Deleting Elements from a List\n",
        "\n",
        "We can remove an item at a specific index in a list using the `.pop()` method. This method will also return the value that we have removed from the list."
      ]
    },
    {
      "cell_type": "code",
      "source": [
        "ages"
      ],
      "metadata": {
        "colab": {
          "base_uri": "https://localhost:8080/"
        },
        "id": "il6joitxpPtl",
        "outputId": "d7ac8c50-4f89-47d4-f735-b7ec2dfa3b6f"
      },
      "execution_count": null,
      "outputs": [
        {
          "output_type": "execute_result",
          "data": {
            "text/plain": [
              "[24, 23, 25, 23, 3.141592, 40, 46, 19, 34, 30, 'OSTEMB School']"
            ]
          },
          "metadata": {},
          "execution_count": 113
        }
      ]
    },
    {
      "cell_type": "code",
      "metadata": {
        "id": "-4ruKBNgwSAB",
        "colab": {
          "base_uri": "https://localhost:8080/"
        },
        "outputId": "4da93329-0c56-48b5-b728-c415a94913f2"
      },
      "source": [
        "pi = ages.pop(4)\n",
        "pi"
      ],
      "execution_count": null,
      "outputs": [
        {
          "output_type": "execute_result",
          "data": {
            "text/plain": [
              "3.141592"
            ]
          },
          "metadata": {},
          "execution_count": 114
        }
      ]
    },
    {
      "cell_type": "code",
      "metadata": {
        "id": "q6jeA5WswWnX",
        "colab": {
          "base_uri": "https://localhost:8080/"
        },
        "outputId": "f4d3d2ad-71a7-45ff-dd81-3a5dd3ae8ebc"
      },
      "source": [
        "ages"
      ],
      "execution_count": null,
      "outputs": [
        {
          "output_type": "execute_result",
          "data": {
            "text/plain": [
              "[24, 23, 25, 23, 40, 46, 19, 34, 30, 'OSTEMB School']"
            ]
          },
          "metadata": {},
          "execution_count": 115
        }
      ]
    },
    {
      "cell_type": "markdown",
      "metadata": {
        "id": "b9KBZg0BfWjr"
      },
      "source": [
        "We can also remove items from a list."
      ]
    },
    {
      "cell_type": "code",
      "source": [
        "del ages[-1]"
      ],
      "metadata": {
        "id": "jmjDG1NKpgtM"
      },
      "execution_count": null,
      "outputs": []
    },
    {
      "cell_type": "code",
      "source": [
        "ages"
      ],
      "metadata": {
        "colab": {
          "base_uri": "https://localhost:8080/"
        },
        "id": "3IC6CMI0pjj6",
        "outputId": "a03ac23d-2432-44f5-9c4a-fc9ccdc4b883"
      },
      "execution_count": null,
      "outputs": [
        {
          "output_type": "execute_result",
          "data": {
            "text/plain": [
              "[24, 23, 25, 23, 40, 46, 19, 34, 30]"
            ]
          },
          "metadata": {},
          "execution_count": 117
        }
      ]
    },
    {
      "cell_type": "code",
      "metadata": {
        "id": "KApkmyGlfWjr",
        "colab": {
          "base_uri": "https://localhost:8080/"
        },
        "outputId": "446f1bf8-83d4-4f10-f184-5be816059742"
      },
      "source": [
        "print(grocery_list)\n",
        "del grocery_list[-1] # delete the last item\n",
        "print(grocery_list)"
      ],
      "execution_count": null,
      "outputs": [
        {
          "output_type": "stream",
          "name": "stdout",
          "text": [
            "['chicken', 'onions', 'rice', 'peppers', 'bananas', 'squash', 'bread', 'salt']\n",
            "['chicken', 'onions', 'rice', 'peppers', 'bananas', 'squash', 'bread']\n"
          ]
        }
      ]
    },
    {
      "cell_type": "code",
      "metadata": {
        "id": "lLOGyPe3fWjs",
        "colab": {
          "base_uri": "https://localhost:8080/"
        },
        "outputId": "e130e754-d9e8-4892-d3b7-726f4d09c803"
      },
      "source": [
        "print(grocery_list)\n",
        "print(grocery_list.pop(-1)) # remove the last item from the list and return it\n",
        "print(grocery_list)"
      ],
      "execution_count": null,
      "outputs": [
        {
          "output_type": "stream",
          "name": "stdout",
          "text": [
            "['chicken', 'onions', 'rice', 'peppers', 'bananas', 'squash', 'bread']\n",
            "bread\n",
            "['chicken', 'onions', 'rice', 'peppers', 'bananas', 'squash']\n"
          ]
        }
      ]
    },
    {
      "cell_type": "markdown",
      "metadata": {
        "id": "CG-e-QoUfWjs"
      },
      "source": [
        "Another mutation we can make to a list is to sort it."
      ]
    },
    {
      "cell_type": "code",
      "metadata": {
        "id": "jQiOEaZAfWjs",
        "colab": {
          "base_uri": "https://localhost:8080/"
        },
        "outputId": "9e0afc8b-e1fe-49c3-bd62-590789448f4d"
      },
      "source": [
        "grocery_list.sort()\n",
        "print(grocery_list)"
      ],
      "execution_count": null,
      "outputs": [
        {
          "output_type": "stream",
          "name": "stdout",
          "text": [
            "['bananas', 'chicken', 'onions', 'peppers', 'rice', 'squash']\n"
          ]
        }
      ]
    },
    {
      "cell_type": "code",
      "source": [
        "ages.sort()\n",
        "\n",
        "print(ages)"
      ],
      "metadata": {
        "colab": {
          "base_uri": "https://localhost:8080/"
        },
        "id": "_NKIDtJkpuaY",
        "outputId": "152f54da-fdb9-468d-fa96-8c1ce398d4f9"
      },
      "execution_count": null,
      "outputs": [
        {
          "output_type": "stream",
          "name": "stdout",
          "text": [
            "[19, 23, 23, 24, 25, 30, 34, 40, 46]\n"
          ]
        }
      ]
    },
    {
      "cell_type": "code",
      "source": [
        "ages"
      ],
      "metadata": {
        "colab": {
          "base_uri": "https://localhost:8080/"
        },
        "id": "JJquzZTap42-",
        "outputId": "3ff9d4de-dfb7-4d98-8340-a0b25dbe6a44"
      },
      "execution_count": null,
      "outputs": [
        {
          "output_type": "execute_result",
          "data": {
            "text/plain": [
              "[19, 23, 23, 24, 25, 30, 34, 40, 46]"
            ]
          },
          "metadata": {},
          "execution_count": 122
        }
      ]
    },
    {
      "cell_type": "markdown",
      "metadata": {
        "id": "yDKEpzoCfWjs"
      },
      "source": [
        "The three major defining properties of the Python `list` are that it is ordered, heterogeneous, and mutable. Because it is heterogeneous and mutable, the `list` is very flexible. We need to be careful about the changes we make to a `list`, because they can be very unpredictable. We could break our code or lose data!"
      ]
    },
    {
      "cell_type": "markdown",
      "metadata": {
        "id": "axY01pgZfWjs"
      },
      "source": [
        "### Exercises\n",
        "\n",
        "1. Make a list of 10 elements and select only the last 2 elements\n",
        "2. Take that same list of 10 elements and select every other element starting with the very first element.\n",
        "3. Select every other element starting with the second element."
      ]
    },
    {
      "cell_type": "markdown",
      "metadata": {
        "id": "eTzEKP2LfWjs"
      },
      "source": [
        "Ex 1. Make a list of 10 elements and select only the last 2 elements"
      ]
    },
    {
      "cell_type": "code",
      "metadata": {
        "id": "FFw9AJZ8fWjs",
        "colab": {
          "base_uri": "https://localhost:8080/"
        },
        "outputId": "5a0c6391-22b8-4083-a90b-5b614f7635cf"
      },
      "source": [
        "my_list_of_10_elements = ['element1', 'element2', 'element3', 'element4', 'element5', 'element6', 'element7', 'element8', 'element9', 'element10']\n",
        "\n",
        "print(my_list_of_10_elements[-2:])"
      ],
      "execution_count": null,
      "outputs": [
        {
          "output_type": "stream",
          "name": "stdout",
          "text": [
            "['element9', 'element10']\n"
          ]
        }
      ]
    },
    {
      "cell_type": "markdown",
      "metadata": {
        "id": "CXsWyEU-fWjs"
      },
      "source": [
        "Ex 2. Take that same list of 10 elements and select every other element starting with the very first element."
      ]
    },
    {
      "cell_type": "code",
      "metadata": {
        "id": "hQ4XhWU8fWjt",
        "colab": {
          "base_uri": "https://localhost:8080/"
        },
        "outputId": "7076e3a5-658d-4f12-d737-767820c381c6"
      },
      "source": [
        "print(my_list_of_10_elements)\n",
        "print(my_list_of_10_elements[::2])\n",
        "print(my_list_of_10_elements[0:len(my_list_of_10_elements):2])"
      ],
      "execution_count": null,
      "outputs": [
        {
          "output_type": "stream",
          "name": "stdout",
          "text": [
            "['element1', 'element2', 'element3', 'element4', 'element5', 'element6', 'element7', 'element8', 'element9', 'element10']\n",
            "['element1', 'element3', 'element5', 'element7', 'element9']\n",
            "['element1', 'element3', 'element5', 'element7', 'element9']\n"
          ]
        }
      ]
    },
    {
      "cell_type": "markdown",
      "metadata": {
        "id": "G4Y8uAJofWjt"
      },
      "source": [
        "Ex 3. Select every other element starting with the second element."
      ]
    },
    {
      "cell_type": "code",
      "metadata": {
        "id": "0xAScdR2fWjt",
        "colab": {
          "base_uri": "https://localhost:8080/"
        },
        "outputId": "638f9edc-0b41-4b1f-f89f-a163ae88aafc"
      },
      "source": [
        "print(my_list_of_10_elements[1::2])"
      ],
      "execution_count": null,
      "outputs": [
        {
          "output_type": "stream",
          "name": "stdout",
          "text": [
            "['element2', 'element4', 'element6', 'element8', 'element10']\n"
          ]
        }
      ]
    },
    {
      "cell_type": "markdown",
      "metadata": {
        "id": "fsBSEuo9fWjt"
      },
      "source": [
        "### Gotcha (Names)\n",
        "Variables and names are not the same thing in python.  For instance, run the following code"
      ]
    },
    {
      "cell_type": "code",
      "metadata": {
        "id": "DUfa_RwCfWjt",
        "colab": {
          "base_uri": "https://localhost:8080/"
        },
        "outputId": "702f5407-0f9f-4450-f560-207b710d1f55"
      },
      "source": [
        "a = 4\n",
        "b = a\n",
        "print(a, b)\n",
        "a = 5\n",
        "print(a, b)"
      ],
      "execution_count": null,
      "outputs": [
        {
          "output_type": "stream",
          "text": [
            "4 4\n",
            "5 4\n"
          ],
          "name": "stdout"
        }
      ]
    },
    {
      "cell_type": "markdown",
      "metadata": {
        "id": "BqigZFIBfWju"
      },
      "source": [
        "Here we assigned the name `a` to the value 4 and then `b` to be equal to `a`.  But, `b` does not point to `a`, it points to the variable that has the name `a`.  Thus, assigning the name `b` to the value of `a` does not cause the value of `b` to change when the value of `a` changes.\n",
        "\n",
        "Lets see another example, here we will make use of a Python `list`.  We will go over more about lists in the next lecture, for now, think of it as an ordered collection of Python variables (technically objects).  In this case, we will do exactly what we did before, but instead of modifying where `a` points, we will modify the object to which it points.  In this case, we will see that `b` does in fact change.  This is because they are both pointing to the same variable in memory!"
      ]
    },
    {
      "cell_type": "code",
      "metadata": {
        "id": "M2D0Z9DxfWjv",
        "colab": {
          "base_uri": "https://localhost:8080/"
        },
        "outputId": "89cf91bd-443a-43cc-920b-a0c26c0d3ce6"
      },
      "source": [
        "a = [3, 2, 1]\n",
        "b = a\n",
        "print(a, b)\n",
        "a[1] = 5\n",
        "print(a, b)"
      ],
      "execution_count": null,
      "outputs": [
        {
          "output_type": "stream",
          "text": [
            "[3, 2, 1] [3, 2, 1]\n",
            "[3, 5, 1] [3, 5, 1]\n"
          ],
          "name": "stdout"
        }
      ]
    },
    {
      "cell_type": "markdown",
      "metadata": {
        "id": "r9S0-Na_fWjv"
      },
      "source": [
        "### Exercises\n",
        "\n",
        "1. Explain the difference between a name and a variable."
      ]
    },
    {
      "cell_type": "markdown",
      "metadata": {
        "id": "F7_dOd1AfWjv"
      },
      "source": [
        "**Answer:** Let me give it a try! If I understood this well, the difference between names and variables is that,\n",
        "\n",
        "A name is the code placeholder for a given value while a variable is a memory placeholder for a given value.\n",
        "\n",
        "Or\n",
        "\n",
        "A Name is as seen in the program's space/scope while A Variable is in the memory space/scope for values of objects.\n",
        "\n",
        "Which is why only when we change the object stored in the memory the variable referred the change is reflected on every variable referring to it as well including name that was acting as placeholders to it physically in our code. If we cannot change the value of the object (immutable objects) then we cannot change the value of the memory where it is stored and thus we cannot see any physical change on the names referring to it.\n",
        "\n",
        "In summary, the change logical (indirect) and/or physical (direct) to variables affect their values in memory when this change is on the objects stored in that memory whether a name referring to it will reflect the change or not depends solely on whether the variable can be changed and the level the change is made, logical (indirect) and/or physical (direct)\n",
        "\n",
        "Almost like the concept of parse by reference and parse by value in functions or computer architecture's concept of direct and indirect addressing.\n",
        "\n",
        "In a funny way, we can say Name holds a copy a variable's value when it is immutable while a variable points to the direct memory location of an object. So, if we change the value of the object (directly) or variable (indirectly changing the object value) changes the value in that memory location.\n",
        "\n",
        "From English language, Variable implicitly means it can change easily while Name means it cannot be changed easily.\n"
      ]
    },
    {
      "cell_type": "markdown",
      "metadata": {
        "id": "ySo_Ie1HfWjw"
      },
      "source": [
        "## `tuple`\n",
        "\n",
        "A Python `tuple` is very similar to a `list` with one major difference -- it is _immutable_. We create a `tuple` using parentheses `()`."
      ]
    },
    {
      "cell_type": "code",
      "metadata": {
        "id": "9GxDNON_fWjw",
        "colab": {
          "base_uri": "https://localhost:8080/"
        },
        "outputId": "4da89f5b-f93d-4605-8b71-6a6bf4320420"
      },
      "source": [
        "# my_tuple = ()\n",
        "\n",
        "example_tuple = ('Dylan', 26, 167.6, True)\n",
        "print(example_tuple)"
      ],
      "execution_count": null,
      "outputs": [
        {
          "output_type": "stream",
          "name": "stdout",
          "text": [
            "('Dylan', 26, 167.6, True)\n"
          ]
        }
      ]
    },
    {
      "cell_type": "markdown",
      "metadata": {
        "id": "g7iaxC_efWjw"
      },
      "source": [
        "While we can retrieve data through indexing (because a `tuple` is ordered), we cannot modify it (because a `tuple` is immutable)."
      ]
    },
    {
      "cell_type": "code",
      "metadata": {
        "id": "WZLa-8rDfWjx",
        "colab": {
          "base_uri": "https://localhost:8080/"
        },
        "outputId": "28f0d488-c9fb-45c0-c4a0-e32d7fdb5c12"
      },
      "source": [
        "print(example_tuple[2])"
      ],
      "execution_count": null,
      "outputs": [
        {
          "output_type": "stream",
          "name": "stdout",
          "text": [
            "167.6\n"
          ]
        }
      ]
    },
    {
      "cell_type": "code",
      "source": [
        "example_tuple[0]"
      ],
      "metadata": {
        "colab": {
          "base_uri": "https://localhost:8080/",
          "height": 35
        },
        "id": "9EyQvSbywHG1",
        "outputId": "b9688305-547d-4a9e-d114-959132de7f22"
      },
      "execution_count": null,
      "outputs": [
        {
          "output_type": "execute_result",
          "data": {
            "text/plain": [
              "'Dylan'"
            ],
            "application/vnd.google.colaboratory.intrinsic+json": {
              "type": "string"
            }
          },
          "metadata": {},
          "execution_count": 128
        }
      ]
    },
    {
      "cell_type": "code",
      "source": [
        "example_tuple[2]"
      ],
      "metadata": {
        "colab": {
          "base_uri": "https://localhost:8080/"
        },
        "id": "myX9X76jwKfW",
        "outputId": "99f65cb4-7f23-4ccd-f4ed-9c9c0ad41332"
      },
      "execution_count": null,
      "outputs": [
        {
          "output_type": "execute_result",
          "data": {
            "text/plain": [
              "167.6"
            ]
          },
          "metadata": {},
          "execution_count": 129
        }
      ]
    },
    {
      "cell_type": "code",
      "metadata": {
        "id": "rEXbPlNXfWjx",
        "colab": {
          "base_uri": "https://localhost:8080/",
          "height": 167
        },
        "outputId": "7bc2e54d-c52c-4293-f090-c8d1e322eff2"
      },
      "source": [
        "example_tuple[2] = 169.3"
      ],
      "execution_count": null,
      "outputs": [
        {
          "output_type": "error",
          "ename": "TypeError",
          "evalue": "ignored",
          "traceback": [
            "\u001b[0;31m---------------------------------------------------------------------------\u001b[0m",
            "\u001b[0;31mTypeError\u001b[0m                                 Traceback (most recent call last)",
            "\u001b[0;32m<ipython-input-130-62af095bd202>\u001b[0m in \u001b[0;36m<module>\u001b[0;34m\u001b[0m\n\u001b[0;32m----> 1\u001b[0;31m \u001b[0mexample_tuple\u001b[0m\u001b[0;34m[\u001b[0m\u001b[0;36m2\u001b[0m\u001b[0;34m]\u001b[0m \u001b[0;34m=\u001b[0m \u001b[0;36m169.3\u001b[0m\u001b[0;34m\u001b[0m\u001b[0;34m\u001b[0m\u001b[0m\n\u001b[0m",
            "\u001b[0;31mTypeError\u001b[0m: 'tuple' object does not support item assignment"
          ]
        }
      ]
    },
    {
      "cell_type": "code",
      "metadata": {
        "id": "l2uo17lYfWjx",
        "colab": {
          "base_uri": "https://localhost:8080/",
          "height": 184
        },
        "outputId": "48c41301-4d78-4647-b9b7-58e63ba90018"
      },
      "source": [
        "# deletion also fails\n",
        "del example_tuple[-1]"
      ],
      "execution_count": null,
      "outputs": [
        {
          "output_type": "error",
          "ename": "TypeError",
          "evalue": "ignored",
          "traceback": [
            "\u001b[0;31m---------------------------------------------------------------------------\u001b[0m",
            "\u001b[0;31mTypeError\u001b[0m                                 Traceback (most recent call last)",
            "\u001b[0;32m<ipython-input-131-9cec4ba6481b>\u001b[0m in \u001b[0;36m<module>\u001b[0;34m\u001b[0m\n\u001b[1;32m      1\u001b[0m \u001b[0;31m# deletion also fails\u001b[0m\u001b[0;34m\u001b[0m\u001b[0;34m\u001b[0m\u001b[0;34m\u001b[0m\u001b[0m\n\u001b[0;32m----> 2\u001b[0;31m \u001b[0;32mdel\u001b[0m \u001b[0mexample_tuple\u001b[0m\u001b[0;34m[\u001b[0m\u001b[0;34m-\u001b[0m\u001b[0;36m1\u001b[0m\u001b[0;34m]\u001b[0m\u001b[0;34m\u001b[0m\u001b[0;34m\u001b[0m\u001b[0m\n\u001b[0m",
            "\u001b[0;31mTypeError\u001b[0m: 'tuple' object doesn't support item deletion"
          ]
        }
      ]
    },
    {
      "cell_type": "markdown",
      "metadata": {
        "id": "VssiHUf6fWjx"
      },
      "source": [
        "While for clarity we should enclose tuples with `()`, Python will assume we want a `tuple` if we don't use any symbols to enclose comma separated values."
      ]
    },
    {
      "cell_type": "code",
      "metadata": {
        "id": "NMwc_8NXfWjy",
        "colab": {
          "base_uri": "https://localhost:8080/"
        },
        "outputId": "96db04dc-687e-4ca4-9509-2426957754ae"
      },
      "source": [
        "another_example_tuple = 'Jill', 36, 162.3, True\n",
        "print(another_example_tuple)\n",
        "print(type(another_example_tuple))"
      ],
      "execution_count": null,
      "outputs": [
        {
          "output_type": "stream",
          "name": "stdout",
          "text": [
            "('Jill', 36, 162.3, True)\n",
            "<class 'tuple'>\n"
          ]
        }
      ]
    },
    {
      "cell_type": "markdown",
      "metadata": {
        "id": "FdLtoiTLfWjy"
      },
      "source": [
        "This implicit `tuple` comes up most often when working with functions that return multiple outputs. For example, we might have a function that returns the first and last letter of a string."
      ]
    },
    {
      "cell_type": "code",
      "metadata": {
        "id": "yRiUikegfWjy",
        "colab": {
          "base_uri": "https://localhost:8080/"
        },
        "outputId": "9ce58cb5-3547-4834-86c8-2bc359c55f73"
      },
      "source": [
        "def first_last(s):\n",
        "    return s[0], s[-1]\n",
        "\n",
        "chars = first_last('hello!')\n",
        "print(chars)"
      ],
      "execution_count": null,
      "outputs": [
        {
          "output_type": "stream",
          "name": "stdout",
          "text": [
            "('h', '!')\n"
          ]
        }
      ]
    },
    {
      "cell_type": "markdown",
      "metadata": {
        "id": "hWxHj1WSfWjy"
      },
      "source": [
        "In such cases, we'll sometimes want to store the multiple outputs in separate variables."
      ]
    },
    {
      "cell_type": "code",
      "metadata": {
        "id": "ahhBJxtVfWjz",
        "colab": {
          "base_uri": "https://localhost:8080/"
        },
        "outputId": "dd8a9d6e-ddeb-42e0-da64-eb5f55928ecd"
      },
      "source": [
        "first_char, last_char = first_last('hello!')\n",
        "\n",
        "print(first_char)\n",
        "print(last_char)"
      ],
      "execution_count": null,
      "outputs": [
        {
          "output_type": "stream",
          "name": "stdout",
          "text": [
            "h\n",
            "!\n"
          ]
        }
      ]
    },
    {
      "cell_type": "markdown",
      "metadata": {
        "id": "EBTGMaFRfWjz"
      },
      "source": [
        "This syntax is called _unpacking_. We can use it with any `tuple`, whether it was returned by a function or not."
      ]
    },
    {
      "cell_type": "code",
      "source": [
        "example_tuple"
      ],
      "metadata": {
        "colab": {
          "base_uri": "https://localhost:8080/"
        },
        "id": "tv7740AuxIRT",
        "outputId": "402316de-3f45-4870-a9be-a5fcb5b3995a"
      },
      "execution_count": null,
      "outputs": [
        {
          "output_type": "execute_result",
          "data": {
            "text/plain": [
              "('Dylan', 26, 167.6, True)"
            ]
          },
          "metadata": {},
          "execution_count": 135
        }
      ]
    },
    {
      "cell_type": "code",
      "metadata": {
        "id": "IHs8OhKqfWjz",
        "colab": {
          "base_uri": "https://localhost:8080/"
        },
        "outputId": "7c6841b9-6c38-4efb-f6d2-0a859d5990a2"
      },
      "source": [
        "name, age, height, has_dog = example_tuple\n",
        "\n",
        "print(name)\n",
        "print(age)\n",
        "print(height)\n",
        "print(has_dog)"
      ],
      "execution_count": null,
      "outputs": [
        {
          "output_type": "stream",
          "name": "stdout",
          "text": [
            "Dylan\n",
            "26\n",
            "167.6\n",
            "True\n"
          ]
        }
      ]
    },
    {
      "cell_type": "markdown",
      "metadata": {
        "id": "UldOQ7RGfWjz"
      },
      "source": [
        "Both the Python `list` and `tuple` are ordered and heterogeneous. However, unlike the `list`, the `tuple` is immutable, meaning it cannot be modified after it is created. Therefore, a `list` might be better for representing data that is expected to change over the course of a program, like a to-do list. A `tuple` might be better for representing data that is expected to be fixed, like the responses of an individual subject to a survey.\n",
        "\n",
        "#### Gotcha\n",
        "\n",
        "One common mistake people make with immutability and especially with tuples is to assume data structures inside the tuple are immutable because the tuple is immutable.  Lets see an example."
      ]
    },
    {
      "cell_type": "code",
      "metadata": {
        "id": "mK0xi94LfWj0",
        "colab": {
          "base_uri": "https://localhost:8080/"
        },
        "outputId": "8215b3e4-56d5-4588-ffae-55b880145e33"
      },
      "source": [
        "tup = ([1], 'a')\n",
        "print(tup)\n"
      ],
      "execution_count": null,
      "outputs": [
        {
          "output_type": "stream",
          "name": "stdout",
          "text": [
            "([1], 'a')\n"
          ]
        }
      ]
    },
    {
      "cell_type": "code",
      "source": [
        "tup[1] = 'b'"
      ],
      "metadata": {
        "colab": {
          "base_uri": "https://localhost:8080/",
          "height": 167
        },
        "id": "v0DIphjTx6aP",
        "outputId": "7f8aba98-dba4-4bc4-e0f5-5f741ea19613"
      },
      "execution_count": null,
      "outputs": [
        {
          "output_type": "error",
          "ename": "TypeError",
          "evalue": "ignored",
          "traceback": [
            "\u001b[0;31m---------------------------------------------------------------------------\u001b[0m",
            "\u001b[0;31mTypeError\u001b[0m                                 Traceback (most recent call last)",
            "\u001b[0;32m<ipython-input-139-f26b6ec0189c>\u001b[0m in \u001b[0;36m<module>\u001b[0;34m\u001b[0m\n\u001b[0;32m----> 1\u001b[0;31m \u001b[0mtup\u001b[0m\u001b[0;34m[\u001b[0m\u001b[0;36m1\u001b[0m\u001b[0;34m]\u001b[0m \u001b[0;34m=\u001b[0m \u001b[0;34m'b'\u001b[0m\u001b[0;34m\u001b[0m\u001b[0;34m\u001b[0m\u001b[0m\n\u001b[0m",
            "\u001b[0;31mTypeError\u001b[0m: 'tuple' object does not support item assignment"
          ]
        }
      ]
    },
    {
      "cell_type": "code",
      "source": [
        "tup[0].append(1)\n",
        "print(tup)"
      ],
      "metadata": {
        "colab": {
          "base_uri": "https://localhost:8080/"
        },
        "id": "6VQocsA_x9ap",
        "outputId": "8f2b24ed-b516-4099-acca-25c8023dfbd8"
      },
      "execution_count": null,
      "outputs": [
        {
          "output_type": "stream",
          "name": "stdout",
          "text": [
            "([1, 1], 'a')\n"
          ]
        }
      ]
    },
    {
      "cell_type": "markdown",
      "metadata": {
        "id": "Dm_LQdB-fWj0"
      },
      "source": [
        "Even though the tuple itself is immutable, we cannot change the exact objects which it contains, those objects themselves can be mutated if they are mutable.  As with anywhere mutability shows up, this requires the programmer to be careful and not assume data has not been modified in some context."
      ]
    },
    {
      "cell_type": "markdown",
      "metadata": {
        "id": "G8XhWUCKfWj0"
      },
      "source": [
        "## `set`\n",
        "\n",
        "A Python `set` is also similar to a `list`, except it is unordered. It can store heterogeneous data and it is mutable, but what does it mean to be unordered? The simplest explanation is simply to look at an example. We can create a set by enclosing our data with curly brackets `{}`."
      ]
    },
    {
      "cell_type": "code",
      "metadata": {
        "id": "oiqPpUfbfWj1",
        "colab": {
          "base_uri": "https://localhost:8080/"
        },
        "outputId": "e822c1f8-2b92-42f0-9984-ae2f2a907f4d"
      },
      "source": [
        "# example_set = {}\n",
        "\n",
        "example_set = {'Dylan', 26, 26, 167.6, True}\n",
        "print(example_set)"
      ],
      "execution_count": null,
      "outputs": [
        {
          "output_type": "stream",
          "name": "stdout",
          "text": [
            "{True, 26, 'Dylan', 167.6}\n"
          ]
        }
      ]
    },
    {
      "cell_type": "markdown",
      "metadata": {
        "id": "kxOAFYc9fWj1"
      },
      "source": [
        "Even though we entered the data in one order, the `set` printed out in a different order. Even more significantly, we cannot index or slice a `set`."
      ]
    },
    {
      "cell_type": "code",
      "metadata": {
        "id": "iMrTd0MyfWj1",
        "colab": {
          "base_uri": "https://localhost:8080/",
          "height": 201
        },
        "outputId": "aa64bf60-e519-4af8-c806-87eb5b0ce1f6"
      },
      "source": [
        "# %%expect_exception TypeError\n",
        "\n",
        "print(example_set[0])"
      ],
      "execution_count": null,
      "outputs": [
        {
          "output_type": "error",
          "ename": "TypeError",
          "evalue": "ignored",
          "traceback": [
            "\u001b[0;31m---------------------------------------------------------------------------\u001b[0m",
            "\u001b[0;31mTypeError\u001b[0m                                 Traceback (most recent call last)",
            "\u001b[0;32m<ipython-input-142-39914d6154a3>\u001b[0m in \u001b[0;36m<module>\u001b[0;34m\u001b[0m\n\u001b[1;32m      1\u001b[0m \u001b[0;31m# %%expect_exception TypeError\u001b[0m\u001b[0;34m\u001b[0m\u001b[0;34m\u001b[0m\u001b[0;34m\u001b[0m\u001b[0m\n\u001b[1;32m      2\u001b[0m \u001b[0;34m\u001b[0m\u001b[0m\n\u001b[0;32m----> 3\u001b[0;31m \u001b[0mprint\u001b[0m\u001b[0;34m(\u001b[0m\u001b[0mexample_set\u001b[0m\u001b[0;34m[\u001b[0m\u001b[0;36m0\u001b[0m\u001b[0;34m]\u001b[0m\u001b[0;34m)\u001b[0m\u001b[0;34m\u001b[0m\u001b[0;34m\u001b[0m\u001b[0m\n\u001b[0m",
            "\u001b[0;31mTypeError\u001b[0m: 'set' object is not subscriptable"
          ]
        }
      ]
    },
    {
      "cell_type": "markdown",
      "metadata": {
        "id": "enWnIgnQfWj2"
      },
      "source": [
        "However, we can still add and delete items from a set."
      ]
    },
    {
      "cell_type": "code",
      "metadata": {
        "id": "7gP6bgH4fWj2",
        "colab": {
          "base_uri": "https://localhost:8080/"
        },
        "outputId": "31dcca73-23bf-4a78-b36e-cf7d95e872dc"
      },
      "source": [
        "print(example_set)"
      ],
      "execution_count": null,
      "outputs": [
        {
          "output_type": "stream",
          "name": "stdout",
          "text": [
            "{True, 26, 'Dylan', 167.6}\n"
          ]
        }
      ]
    },
    {
      "cell_type": "code",
      "source": [
        "print(example_set.pop())\n",
        "print(example_set)"
      ],
      "metadata": {
        "colab": {
          "base_uri": "https://localhost:8080/"
        },
        "id": "hYYy4Zl0znRg",
        "outputId": "c3af3143-9a00-4bf3-fcc5-e1bb29d115a3"
      },
      "execution_count": null,
      "outputs": [
        {
          "output_type": "stream",
          "name": "stdout",
          "text": [
            "True\n",
            "{26, 'Dylan', 167.6}\n"
          ]
        }
      ]
    },
    {
      "cell_type": "code",
      "metadata": {
        "id": "SLPSDdB7fWj3",
        "colab": {
          "base_uri": "https://localhost:8080/"
        },
        "outputId": "6d6511aa-2935-4900-8f2d-56db23d404ec"
      },
      "source": [
        "example_set.add('True')\n",
        "print(example_set)"
      ],
      "execution_count": null,
      "outputs": [
        {
          "output_type": "stream",
          "name": "stdout",
          "text": [
            "{'True', 26, 'Dylan', 167.6}\n"
          ]
        }
      ]
    },
    {
      "cell_type": "code",
      "source": [
        "example_set.update([58.1, 'brown'])\n",
        "print(example_set)"
      ],
      "metadata": {
        "colab": {
          "base_uri": "https://localhost:8080/"
        },
        "id": "0EfaR5f_z78T",
        "outputId": "489f6fde-ef12-4e7c-af53-f547450d083c"
      },
      "execution_count": null,
      "outputs": [
        {
          "output_type": "stream",
          "name": "stdout",
          "text": [
            "{58.1, 167.6, 'Dylan', 26, 'True', 'brown'}\n"
          ]
        }
      ]
    },
    {
      "cell_type": "markdown",
      "metadata": {
        "id": "kYz-6oAnfWj3"
      },
      "source": [
        "The `add` method of a `set` works similarly to the `append` method of a `list`. The `update` method of a `set` works similarly to the `extend` method of a `list`.\n",
        "\n",
        "_**Why is `set` useful?**_\n",
        "\n",
        "It seems strange that we might want an _unordered_ data structure. We can't access or modify the data through indexing. How does giving up order benefit us? The answer is that it gives us flexibility about how the data is stored in memory, and that flexibility can make data retrieval much faster.\n",
        "\n",
        "Imagine we have ten boxes and ten piles of money. We put the ten piles of money in the ten boxes. Now say we want to find the box that has \\$5.37 in it. We don't know which box this is, so we start with the first box and check. If it isn't in the first box, we move on to the second box. We keep checking boxes until we find it. This might take awhile.\n",
        "\n",
        "![list_illustration](images/list_illustration.png)\n",
        "\n",
        "Now imagine we have the same ten piles of money, but we have 31 boxes. Instead of putting each pile of money into the boxes in order, instead put each pile into a box based on the amount of money in the pile. First we multiply the amount of money by 100, and then take modulus division by 31. This gives the number of the box we should put the pile of money in."
      ]
    },
    {
      "cell_type": "code",
      "metadata": {
        "id": "peOq_9DZfWj4"
      },
      "source": [
        "piles = [2.83, 8.23, 9.38, 10.23, 25.58, 0.42, 5.37, 28.10, 32.14, 7.31]"
      ],
      "execution_count": null,
      "outputs": []
    },
    {
      "cell_type": "code",
      "metadata": {
        "id": "0yhPFVm-fWj5"
      },
      "source": [
        "def hash_function(x):\n",
        "    return int(x*100 % 31)"
      ],
      "execution_count": null,
      "outputs": []
    },
    {
      "cell_type": "code",
      "metadata": {
        "id": "KWbBaVawfWj7",
        "colab": {
          "base_uri": "https://localhost:8080/"
        },
        "outputId": "e4dacc0b-e2d1-4cf5-ae53-d7c763544a56"
      },
      "source": [
        "[hash_function(pile) for pile in piles]"
      ],
      "execution_count": null,
      "outputs": [
        {
          "output_type": "execute_result",
          "data": {
            "text/plain": [
              "[4, 17, 8, 0, 16, 11, 10, 20, 21, 18]"
            ]
          },
          "metadata": {
            "tags": []
          },
          "execution_count": 18
        }
      ]
    },
    {
      "cell_type": "markdown",
      "metadata": {
        "id": "zfc26T9mfWj8"
      },
      "source": [
        "Now say we want to find the box with \\$5.37 in it. We don't have to search through box after box. We can compute:"
      ]
    },
    {
      "cell_type": "code",
      "metadata": {
        "id": "6A4oud9XfWj8"
      },
      "source": [
        "print(int(5.37 * 100 % 31))"
      ],
      "execution_count": null,
      "outputs": []
    },
    {
      "cell_type": "markdown",
      "metadata": {
        "id": "6PAhieWMfWj8"
      },
      "source": [
        "![hash_illustration](images/hash_illustration.png)\n",
        "\n",
        "Box number 10 contains the \\$5.37 pile.\n",
        "\n",
        "This technique of assigning boxes (i.e. memory) based on the object it contains is called **hashing**. It makes searching for data very fast (as we've illustrated), but at the cost of increase memory allocation (we needed more boxes). It also means that we cannot assign an order to the objects as they are stored in memory.\n",
        "\n",
        "Hashing also puts two major restrictions on the `set`. First of all, objects in a `set` must be immutable. If an object were to change, its position in memory would no longer correspond with its **hash**. Secondly, the objects in a `set` must be unique. Identical objects end up with the same hash. Since we can't store multiple objects in the same chunk of memory, we simply discard any duplicates.\n",
        "\n",
        "This second restriction means we can use a `set` to easily determine the unique objects in a `list` or `tuple`."
      ]
    },
    {
      "cell_type": "code",
      "metadata": {
        "id": "aAJMfgrFfWj9",
        "colab": {
          "base_uri": "https://localhost:8080/"
        },
        "outputId": "5ff539ef-3e21-481b-e89e-2e1f94bcdf70"
      },
      "source": [
        "print(set([23, 609, 348, 10, 5, 23, 340, 82]))\n",
        "print(set(('a', 'b', 'q', 'c', 'c', 'd', 'r', 'a')))"
      ],
      "execution_count": null,
      "outputs": [
        {
          "output_type": "stream",
          "text": [
            "{609, 5, 10, 82, 340, 23, 348}\n",
            "{'b', 'c', 'a', 'd', 'r', 'q'}\n"
          ],
          "name": "stdout"
        }
      ]
    },
    {
      "cell_type": "markdown",
      "metadata": {
        "id": "rq5t5C6vfWj9"
      },
      "source": [
        "Because searching for data is very simple in a `set`, they are also very useful for making comparisons between collections of data."
      ]
    },
    {
      "cell_type": "code",
      "metadata": {
        "id": "drc9fSnvfWj9"
      },
      "source": [
        "student_a_courses = {'history', 'english', 'biology', 'theatre'}\n",
        "student_b_courses = {'biology', 'english', 'mathematics', 'computer science'}"
      ],
      "execution_count": null,
      "outputs": []
    },
    {
      "cell_type": "code",
      "source": [
        "print(student_a_courses.intersection(student_b_courses))"
      ],
      "metadata": {
        "colab": {
          "base_uri": "https://localhost:8080/"
        },
        "id": "pvmzPQRA1bKz",
        "outputId": "9c0aaccb-c713-487b-b96a-402bf3b453d6"
      },
      "execution_count": null,
      "outputs": [
        {
          "output_type": "stream",
          "name": "stdout",
          "text": [
            "{'english', 'biology'}\n"
          ]
        }
      ]
    },
    {
      "cell_type": "code",
      "source": [
        "print(student_a_courses.union(student_b_courses))"
      ],
      "metadata": {
        "colab": {
          "base_uri": "https://localhost:8080/"
        },
        "id": "7YVJwV5Q1fLL",
        "outputId": "6ba21933-4269-4683-dc91-b97cbdd64e8b"
      },
      "execution_count": null,
      "outputs": [
        {
          "output_type": "stream",
          "name": "stdout",
          "text": [
            "{'english', 'computer science', 'biology', 'mathematics', 'history', 'theatre'}\n"
          ]
        }
      ]
    },
    {
      "cell_type": "code",
      "source": [
        "print(student_a_courses.difference(student_b_courses))"
      ],
      "metadata": {
        "colab": {
          "base_uri": "https://localhost:8080/"
        },
        "id": "URsOSDNf1ltO",
        "outputId": "372d6701-6fc8-44d9-f663-31e139b27157"
      },
      "execution_count": null,
      "outputs": [
        {
          "output_type": "stream",
          "name": "stdout",
          "text": [
            "{'theatre', 'history'}\n"
          ]
        }
      ]
    },
    {
      "cell_type": "code",
      "source": [
        "print(student_b_courses.difference(student_a_courses))"
      ],
      "metadata": {
        "colab": {
          "base_uri": "https://localhost:8080/"
        },
        "id": "mhhuh8VF1xfy",
        "outputId": "dc55f337-4a1e-4f5d-bae5-6e60307ef0e1"
      },
      "execution_count": null,
      "outputs": [
        {
          "output_type": "stream",
          "name": "stdout",
          "text": [
            "{'computer science', 'mathematics'}\n"
          ]
        }
      ]
    },
    {
      "cell_type": "code",
      "source": [
        "print(student_a_courses.symmetric_difference(student_b_courses))"
      ],
      "metadata": {
        "colab": {
          "base_uri": "https://localhost:8080/"
        },
        "id": "WFnyuTO112vV",
        "outputId": "7fed95e0-83e9-4eec-d7b5-9742666cfa5b"
      },
      "execution_count": null,
      "outputs": [
        {
          "output_type": "stream",
          "name": "stdout",
          "text": [
            "{'computer science', 'mathematics', 'history', 'theatre'}\n"
          ]
        }
      ]
    },
    {
      "cell_type": "markdown",
      "metadata": {
        "id": "deayE0eKfWj9"
      },
      "source": [
        "![set_operations](images/set_operations.png)\n",
        "\n",
        "### Exercises\n",
        "\n",
        "1. When should I use a `set` instead of a `list`?\n",
        "2. What is an example of a problem where a `set` might be part of the solution?"
      ]
    },
    {
      "cell_type": "markdown",
      "metadata": {
        "id": "GTz8ucFpfWj9"
      },
      "source": [
        "Ex 1. When should I use a `set` instead of a `list`?"
      ]
    },
    {
      "cell_type": "markdown",
      "metadata": {
        "id": "8HOtd4AQfWj9"
      },
      "source": [
        "**Answer:** \n",
        "\n",
        "I will say both python list and set are mutable meaning we can modify, reassign and/or delete an element stored in them.\n",
        "\n",
        "A difference between python set and a list is that in a python list we can have duplicate values or items whereas a python set does not allow storage of duplicate items. A python set is unordered meaning the items can be stored in any order and the set will still be the same set we are referring to but in a list order of items may matter much when referring to the list.\n",
        "\n",
        "\n",
        "Since python set is unordered we cannot use indexing to access its items or manipulate them but python provides special set functions through the set object to manipulate its items. But in python list, we can access the items through indexing and can directly perform operations on them.\n",
        "\n",
        "When should one consider using sets over list?\n",
        "\n",
        "In addition to ability to perform set operations on sets unlike lists)\n",
        "\n",
        "Well, I will add that\n",
        "\n",
        "Use sets in places where membership test needs to be performed on the items stored (a test to check if an item is a member or belongs to a set or group of things). Where the order of item matters to maintain meaning it might be good to consider using sets. We can use sets to remove duplicate values from lists and/or tuples"
      ]
    },
    {
      "cell_type": "markdown",
      "metadata": {
        "id": "6Aob32S0fWj-"
      },
      "source": [
        "Ex 2. What is an example of a problem where a `set` might be part of the solution?"
      ]
    },
    {
      "cell_type": "markdown",
      "metadata": {
        "id": "bUEneURrfWj-"
      },
      "source": [
        "**Answer:** An example of a problem where a set might be the solution is where we need to return unique words read from a file."
      ]
    },
    {
      "cell_type": "markdown",
      "metadata": {
        "id": "nFNpkoflfWj_"
      },
      "source": [
        "# dict\n",
        "\n",
        "To understand the Python `dict`, let's start again with the Python `list`."
      ]
    },
    {
      "cell_type": "code",
      "metadata": {
        "id": "sIkMg1u7fWj_"
      },
      "source": [
        "me = ['Dylan', 28, 167.5, 56.5, 'brown', 'brown', True]"
      ],
      "execution_count": null,
      "outputs": []
    },
    {
      "cell_type": "markdown",
      "metadata": {
        "id": "YkWUYmjOfWj_"
      },
      "source": [
        "This `list` describes me: my name, my age, my height (in centimeters), my weight (in kilograms), my hair color, my eye color, and whether or not I have a dog. We know we can access this information individually by index."
      ]
    },
    {
      "cell_type": "code",
      "metadata": {
        "id": "dvkeBUS2fWj_",
        "colab": {
          "base_uri": "https://localhost:8080/"
        },
        "outputId": "629d7e2b-8370-4405-d85e-acc07c7593b6"
      },
      "source": [
        "print('My name is %s' % me[0])\n",
        "print('I have %s hair' % me[4])"
      ],
      "execution_count": null,
      "outputs": [
        {
          "output_type": "stream",
          "name": "stdout",
          "text": [
            "My name is Dylan\n",
            "I have brown hair\n"
          ]
        }
      ]
    },
    {
      "cell_type": "markdown",
      "metadata": {
        "id": "3cFDPMv_fWj_"
      },
      "source": [
        "It would be easy to get mixed up about which data is which (for example, which `'brown'` is hair color and which is eye color?), or where I should find it (will age always be at index 1?).\n",
        "\n",
        "A better solution would be a data structure where we could index using meaningful values. For example instead of using `me[0]` to recover `Dylan`, I could use `me['name']`. Instead of hair color being `me[4]`, it could be `me['hair']`. This feature is the central characteristic of the Python `dict`."
      ]
    },
    {
      "cell_type": "code",
      "metadata": {
        "id": "8MKQnGZxfWkA"
      },
      "source": [
        "# my_dict = {key: value, key:value}\n",
        "\n",
        "my_dict = {'name': 'Dylan', 'age': 28, 'height': 167.5, 'weight': 56.5, 'hair': 'brown', 'eyes': 'brown', 'has dog': True}"
      ],
      "execution_count": null,
      "outputs": []
    },
    {
      "cell_type": "code",
      "source": [
        "print('My name is %s' % my_dict['name'])"
      ],
      "metadata": {
        "colab": {
          "base_uri": "https://localhost:8080/"
        },
        "id": "24kpi8IS2t48",
        "outputId": "d70d4556-aeda-4bc4-a52b-367938e652f1"
      },
      "execution_count": null,
      "outputs": [
        {
          "output_type": "stream",
          "name": "stdout",
          "text": [
            "My name is Dylan\n"
          ]
        }
      ]
    },
    {
      "cell_type": "code",
      "source": [
        "my_dict['name']"
      ],
      "metadata": {
        "colab": {
          "base_uri": "https://localhost:8080/",
          "height": 35
        },
        "id": "NZhyil5X2xVn",
        "outputId": "8f5796f4-c545-4133-b940-4fd7a49456b1"
      },
      "execution_count": null,
      "outputs": [
        {
          "output_type": "execute_result",
          "data": {
            "text/plain": [
              "'Dylan'"
            ],
            "application/vnd.google.colaboratory.intrinsic+json": {
              "type": "string"
            }
          },
          "metadata": {},
          "execution_count": 157
        }
      ]
    },
    {
      "cell_type": "code",
      "source": [
        "my_dict['age']"
      ],
      "metadata": {
        "colab": {
          "base_uri": "https://localhost:8080/"
        },
        "id": "r7CvjYuF2z24",
        "outputId": "375c1708-2587-49c2-9c5c-cecf90a42039"
      },
      "execution_count": null,
      "outputs": [
        {
          "output_type": "execute_result",
          "data": {
            "text/plain": [
              "28"
            ]
          },
          "metadata": {},
          "execution_count": 158
        }
      ]
    },
    {
      "cell_type": "markdown",
      "metadata": {
        "id": "ZRDbESfBfWkA"
      },
      "source": [
        "Instead of calling `'name'` and '`hair'` the index, we call them **keys**. Each key is associated with a **value** in a **key-value pair**. We can see the key-value pairs in the `{}` syntax used for creating a `dict`. Each key-value pair is separated by a comma, and within a pair the key and value are separated by a colon `:`.\n",
        "\n",
        "### Exercises\n",
        "1. When might a `dict` be more useful than a `list`?\n",
        "2. Compare the flexibility of a `dict` which contains other `dict` object to that of a multi dimensional array."
      ]
    },
    {
      "cell_type": "markdown",
      "metadata": {
        "id": "wkbCJeP7fWkA"
      },
      "source": [
        "Ex 1. When might a `dict` be more useful than a `list`?"
      ]
    },
    {
      "cell_type": "markdown",
      "metadata": {
        "id": "JGkPKeQefWkA"
      },
      "source": [
        "**Answer:**\n",
        "\n",
        "Just like set, dict is unordered because it uses hash tables whereas list is ordered. dict items are enclosed in {} and list items in [] Since list is indexed we can get items through their indices whereas in dict we can get items through their keys and these keys can be of different types, it could be a name as string or age as integer or interest rate as float, etc except the key cannot be of types like a list and set which are mutable (modifiable entries). This gives meaningful keys for accessing values stored in dict data structures unline list. \n",
        "\n",
        "Dict is more useful when we need to associate meaning to what we are storing.\n",
        "Also the ability to have composite key using tuples as key in dict is good in cases where unique keys need to be composite like in Database Management Systems (DBMS)"
      ]
    },
    {
      "cell_type": "markdown",
      "metadata": {
        "id": "KuelU_0VfWkA"
      },
      "source": [
        "Ex 2. Compare the flexibility of a `dict` which contains other `dict` object to that of a multi dimensional array."
      ]
    },
    {
      "cell_type": "markdown",
      "metadata": {
        "id": "cn6UY40dfWkB"
      },
      "source": [
        "**Answer:**\n",
        "\n",
        "The flexibility a dict offers comes with the ability to get an iterable handler returned from the dict object that allows us to iterate through the dict. These iterators can be provided over items, keys and even its values. This means if the item or key or value is another dict object, the iterator returned can further be used to iterate through the stored dict objects. Unlike multi dimensional array where we would have to perform the traditional approach to loop through each dimension of the array's array items."
      ]
    },
    {
      "cell_type": "markdown",
      "metadata": {
        "id": "pHGiKGAbfWkB"
      },
      "source": [
        "### `zip`\n",
        "\n",
        "The `zip` function can be very handy for creating a `dict`. Let's go back to the `list` we made before that contained all the values describing me. We'll make a second `list` containing all the keys we would want for putting these values in a dictionary"
      ]
    },
    {
      "cell_type": "code",
      "metadata": {
        "id": "P85h5s7cfWkB"
      },
      "source": [
        "value_list = ['Dylan', 28, 167.5, 56.5, 'brown', 'brown', True]\n",
        "key_list = ['name', 'age', 'height', 'weight', 'hair', 'eyes', 'has dog']"
      ],
      "execution_count": null,
      "outputs": []
    },
    {
      "cell_type": "code",
      "source": [
        "print(value_list)\n"
      ],
      "metadata": {
        "colab": {
          "base_uri": "https://localhost:8080/"
        },
        "id": "-u0KXzSq39S9",
        "outputId": "a140303a-a9b0-4a7f-ab58-a248853bc3a7"
      },
      "execution_count": null,
      "outputs": [
        {
          "output_type": "stream",
          "name": "stdout",
          "text": [
            "['Dylan', 28, 167.5, 56.5, 'brown', 'brown', True]\n"
          ]
        }
      ]
    },
    {
      "cell_type": "code",
      "source": [
        "print(key_list)"
      ],
      "metadata": {
        "colab": {
          "base_uri": "https://localhost:8080/"
        },
        "id": "Tc_dq9jb4Ahe",
        "outputId": "88779c6b-80ae-4758-9edb-4b66a1c49123"
      },
      "execution_count": null,
      "outputs": [
        {
          "output_type": "stream",
          "name": "stdout",
          "text": [
            "['name', 'age', 'height', 'weight', 'hair', 'eyes', 'has dog']\n"
          ]
        }
      ]
    },
    {
      "cell_type": "markdown",
      "metadata": {
        "id": "ySPhB8qcfWkB"
      },
      "source": [
        "Currently we have two lists: one of values and one of keys. They have no relationship to each other within Python, but we can see that they belong together logically. How do we combine them in Python? By using the `zip` function."
      ]
    },
    {
      "cell_type": "code",
      "source": [
        "tuple_from_lists = zip(key_list, value_list)"
      ],
      "metadata": {
        "id": "kWsBc4Zc3_mM"
      },
      "execution_count": null,
      "outputs": []
    },
    {
      "cell_type": "code",
      "source": [
        "print(list(tuple_from_lists))"
      ],
      "metadata": {
        "colab": {
          "base_uri": "https://localhost:8080/"
        },
        "id": "WYzIMY-S4Myz",
        "outputId": "50d61c4c-3e86-427a-fb48-2b87b92e748a"
      },
      "execution_count": null,
      "outputs": [
        {
          "output_type": "stream",
          "name": "stdout",
          "text": [
            "[('name', 'Dylan'), ('age', 28), ('height', 167.5), ('weight', 56.5), ('hair', 'brown'), ('eyes', 'brown'), ('has dog', True)]\n"
          ]
        }
      ]
    },
    {
      "cell_type": "code",
      "source": [
        "my_dict_from_lists = dict(list(zip(key_list, value_list)))"
      ],
      "metadata": {
        "id": "n6pkSUwn4gWt"
      },
      "execution_count": null,
      "outputs": []
    },
    {
      "cell_type": "code",
      "source": [
        "my_dict_from_lists"
      ],
      "metadata": {
        "colab": {
          "base_uri": "https://localhost:8080/"
        },
        "id": "OB1jTj8O4lbS",
        "outputId": "413c31d6-6fd6-44e6-d8da-38e104900022"
      },
      "execution_count": null,
      "outputs": [
        {
          "output_type": "execute_result",
          "data": {
            "text/plain": [
              "{'name': 'Dylan',\n",
              " 'age': 28,\n",
              " 'height': 167.5,\n",
              " 'weight': 56.5,\n",
              " 'hair': 'brown',\n",
              " 'eyes': 'brown',\n",
              " 'has dog': True}"
            ]
          },
          "metadata": {},
          "execution_count": 168
        }
      ]
    },
    {
      "cell_type": "code",
      "metadata": {
        "id": "blBmVg8tfWkC",
        "colab": {
          "base_uri": "https://localhost:8080/"
        },
        "outputId": "19bcb3f6-23a8-4c48-acc9-807953956e96"
      },
      "source": [
        "key_value_pairs = list(zip(key_list, value_list))\n",
        "print(key_value_pairs)"
      ],
      "execution_count": null,
      "outputs": [
        {
          "output_type": "stream",
          "name": "stdout",
          "text": [
            "[('name', 'Dylan'), ('age', 28), ('height', 167.5), ('weight', 56.5), ('hair', 'brown'), ('eyes', 'brown'), ('has dog', True)]\n"
          ]
        }
      ]
    },
    {
      "cell_type": "markdown",
      "metadata": {
        "id": "BcQ70br2fWkC"
      },
      "source": [
        "We now have a list of tuples. We interpret the first element of each tuple as a key, and the second element as a value. We can turn this list of tuples directly into a `dict`."
      ]
    },
    {
      "cell_type": "code",
      "metadata": {
        "id": "Ydqt6M0vfWkC"
      },
      "source": [
        "me_dict = dict(key_value_pairs)\n",
        "print(me_dict)"
      ],
      "execution_count": null,
      "outputs": []
    },
    {
      "cell_type": "markdown",
      "metadata": {
        "id": "_A3VIB4YfWkC"
      },
      "source": [
        "You may have noticed that even though our list of tuples began with `('name', 'Dylan')`, when we printed `me_dict` it started with `'eyes': 'brown'`. If you guessed this means that a `dict` is unordered, you are correct! The keys are hashed to assign key-value pairs to memory. Therefore, keys must be immutable and unique, similar to the elements of a `set`. However, values don't have these restrictions."
      ]
    },
    {
      "cell_type": "code",
      "metadata": {
        "id": "2OeSM5I1fWkC"
      },
      "source": [
        "%%expect_exception TypeError\n",
        "\n",
        "# this doesn't work\n",
        "invalid_dict = {[1, 5]: 'a', 5: 23}"
      ],
      "execution_count": null,
      "outputs": []
    },
    {
      "cell_type": "code",
      "metadata": {
        "id": "gAtCO8IMfWkD"
      },
      "source": [
        "# but this does\n",
        "valid_dict = {(1, 5): 'a', 5: [23, 6]}\n",
        "print(valid_dict)"
      ],
      "execution_count": null,
      "outputs": []
    },
    {
      "cell_type": "markdown",
      "metadata": {
        "id": "veRhOlWsfWkD"
      },
      "source": [
        "The `dict` is also mutable. We can add new key-value pairs by simple assignment."
      ]
    },
    {
      "cell_type": "code",
      "source": [
        "my_dict"
      ],
      "metadata": {
        "colab": {
          "base_uri": "https://localhost:8080/"
        },
        "id": "T_Hk1yMx4-iD",
        "outputId": "e5c3cb19-6309-41da-8c8a-ee81e7127676"
      },
      "execution_count": null,
      "outputs": [
        {
          "output_type": "execute_result",
          "data": {
            "text/plain": [
              "{'name': 'Dylan',\n",
              " 'age': 28,\n",
              " 'height': 167.5,\n",
              " 'weight': 56.5,\n",
              " 'hair': 'brown',\n",
              " 'eyes': 'brown',\n",
              " 'has dog': True}"
            ]
          },
          "metadata": {},
          "execution_count": 169
        }
      ]
    },
    {
      "cell_type": "code",
      "source": [
        "my_dict['age'] = 30"
      ],
      "metadata": {
        "id": "FFpoJp5M5FtK"
      },
      "execution_count": null,
      "outputs": []
    },
    {
      "cell_type": "code",
      "source": [
        "my_dict"
      ],
      "metadata": {
        "colab": {
          "base_uri": "https://localhost:8080/"
        },
        "id": "hAQppYbi5Icc",
        "outputId": "1b8dac45-f526-4adc-96f1-85739c28a586"
      },
      "execution_count": null,
      "outputs": [
        {
          "output_type": "execute_result",
          "data": {
            "text/plain": [
              "{'name': 'Dylan',\n",
              " 'age': 30,\n",
              " 'height': 167.5,\n",
              " 'weight': 56.5,\n",
              " 'hair': 'brown',\n",
              " 'eyes': 'brown',\n",
              " 'has dog': True}"
            ]
          },
          "metadata": {},
          "execution_count": 171
        }
      ]
    },
    {
      "cell_type": "code",
      "metadata": {
        "id": "Tw0lOCN1fWkD",
        "colab": {
          "base_uri": "https://localhost:8080/"
        },
        "outputId": "d6e3d2a4-cab1-4dab-c794-bd6f4040f0f6"
      },
      "source": [
        "print(my_dict)\n",
        "my_dict['favorite book'] =  'The Little Prince'\n",
        "print(my_dict)"
      ],
      "execution_count": null,
      "outputs": [
        {
          "output_type": "stream",
          "name": "stdout",
          "text": [
            "{'name': 'Dylan', 'age': 30, 'height': 167.5, 'weight': 56.5, 'hair': 'brown', 'eyes': 'brown', 'has dog': True}\n",
            "{'name': 'Dylan', 'age': 30, 'height': 167.5, 'weight': 56.5, 'hair': 'brown', 'eyes': 'brown', 'has dog': True, 'favorite book': 'The Little Prince'}\n"
          ]
        }
      ]
    },
    {
      "cell_type": "markdown",
      "metadata": {
        "id": "NypI9f1lfWkD"
      },
      "source": [
        "We can also use `update`, similar to the way we used it for a `set`, except now with key-value pairs."
      ]
    },
    {
      "cell_type": "code",
      "metadata": {
        "id": "j5pKfw8CfWkD",
        "colab": {
          "base_uri": "https://localhost:8080/"
        },
        "outputId": "d1c79a99-46d9-4ca3-bf85-28552ea06651"
      },
      "source": [
        "print(my_dict)"
      ],
      "execution_count": null,
      "outputs": [
        {
          "output_type": "stream",
          "name": "stdout",
          "text": [
            "{'name': 'Dylan', 'age': 30, 'height': 167.5, 'weight': 56.5, 'hair': 'brown', 'eyes': 'brown', 'has dog': True, 'favorite book': 'The Little Prince'}\n"
          ]
        }
      ]
    },
    {
      "cell_type": "code",
      "source": [
        "my_dict.update({'favorite color': 'orange', 'siblings': 3, 'nieces/nephews': 3})\n",
        "print(my_dict)"
      ],
      "metadata": {
        "colab": {
          "base_uri": "https://localhost:8080/"
        },
        "id": "3hNUviKL5fqb",
        "outputId": "0deb4091-a062-44f9-83ce-0c22e2a4f987"
      },
      "execution_count": null,
      "outputs": [
        {
          "output_type": "stream",
          "name": "stdout",
          "text": [
            "{'name': 'Dylan', 'age': 30, 'height': 167.5, 'weight': 56.5, 'hair': 'brown', 'eyes': 'brown', 'has dog': True, 'favorite book': 'The Little Prince', 'favorite color': 'orange', 'siblings': 3, 'nieces/nephews': 3}\n"
          ]
        }
      ]
    },
    {
      "cell_type": "markdown",
      "metadata": {
        "id": "FlxV7pFlfWkE"
      },
      "source": [
        "We can replace or delete key-value pairs from the `dict`."
      ]
    },
    {
      "cell_type": "code",
      "metadata": {
        "id": "KLF6sjP2fWkE",
        "colab": {
          "base_uri": "https://localhost:8080/"
        },
        "outputId": "e796d8aa-2cd4-44a9-c075-e1fe098be459"
      },
      "source": [
        "print(my_dict)\n",
        "my_dict['nieces/nephews'] = 4\n",
        "print(my_dict)"
      ],
      "execution_count": null,
      "outputs": [
        {
          "output_type": "stream",
          "name": "stdout",
          "text": [
            "{'name': 'Dylan', 'age': 30, 'height': 167.5, 'weight': 56.5, 'hair': 'brown', 'eyes': 'brown', 'has dog': True, 'favorite book': 'The Little Prince', 'favorite color': 'orange', 'siblings': 3, 'nieces/nephews': 3}\n",
            "{'name': 'Dylan', 'age': 30, 'height': 167.5, 'weight': 56.5, 'hair': 'brown', 'eyes': 'brown', 'has dog': True, 'favorite book': 'The Little Prince', 'favorite color': 'orange', 'siblings': 3, 'nieces/nephews': 4}\n"
          ]
        }
      ]
    },
    {
      "cell_type": "code",
      "metadata": {
        "id": "zt4ZG4esfWkE",
        "colab": {
          "base_uri": "https://localhost:8080/"
        },
        "outputId": "78d1bc24-478c-4336-ed79-fa66e5be4286"
      },
      "source": [
        "del my_dict['age']\n",
        "print(my_dict)"
      ],
      "execution_count": null,
      "outputs": [
        {
          "output_type": "stream",
          "name": "stdout",
          "text": [
            "{'name': 'Dylan', 'height': 167.5, 'weight': 56.5, 'hair': 'brown', 'eyes': 'brown', 'has dog': True, 'favorite color': 'orange', 'siblings': 3, 'nieces/nephews': 4}\n"
          ]
        }
      ]
    },
    {
      "cell_type": "code",
      "metadata": {
        "id": "Yn74a-tkfWkE",
        "colab": {
          "base_uri": "https://localhost:8080/"
        },
        "outputId": "f41a0bf6-e4ea-4b3a-d1cc-0a968999ff94"
      },
      "source": [
        "print(my_dict.pop('siblings'))\n",
        "print(my_dict)"
      ],
      "execution_count": null,
      "outputs": [
        {
          "output_type": "stream",
          "name": "stdout",
          "text": [
            "3\n",
            "{'name': 'Dylan', 'height': 167.5, 'weight': 56.5, 'hair': 'brown', 'eyes': 'brown', 'has dog': True, 'favorite color': 'orange', 'nieces/nephews': 4}\n"
          ]
        }
      ]
    },
    {
      "cell_type": "markdown",
      "metadata": {
        "id": "dCy9gg8QfWkF"
      },
      "source": [
        "Because the `dict` uses hashing, searching it is very fast (as with `set`). Sometimes dictionaries are referred to as **lookup tables** or **hash tables**. It is incredibly useful for referencing data through meaningful keys. While the data in a `dict` is unordered, it remains organized by the keys. We can retrieve a list of the keys and values directly, or as key-value pairs, using the appropriate methods of `dict`."
      ]
    },
    {
      "cell_type": "code",
      "metadata": {
        "id": "dzMgO-mifWkF",
        "colab": {
          "base_uri": "https://localhost:8080/"
        },
        "outputId": "d38fb748-d09e-4a67-ed4d-58dede37d492"
      },
      "source": [
        "print(my_dict.keys())"
      ],
      "execution_count": null,
      "outputs": [
        {
          "output_type": "stream",
          "name": "stdout",
          "text": [
            "dict_keys(['name', 'height', 'weight', 'hair', 'eyes', 'has dog', 'favorite color', 'nieces/nephews'])\n"
          ]
        }
      ]
    },
    {
      "cell_type": "code",
      "source": [
        "print(my_dict.values())"
      ],
      "metadata": {
        "colab": {
          "base_uri": "https://localhost:8080/"
        },
        "id": "IrYs_J8m6cbl",
        "outputId": "dc5f59f1-1dd2-4598-c34b-1e0da74555cd"
      },
      "execution_count": null,
      "outputs": [
        {
          "output_type": "stream",
          "name": "stdout",
          "text": [
            "dict_values(['Dylan', 167.5, 56.5, 'brown', 'brown', True, 'orange', 4])\n"
          ]
        }
      ]
    },
    {
      "cell_type": "code",
      "source": [
        "print(my_dict.items())"
      ],
      "metadata": {
        "colab": {
          "base_uri": "https://localhost:8080/"
        },
        "id": "WBxwW9_76iMk",
        "outputId": "7ef58e1f-5afd-4008-e604-f64aae02a218"
      },
      "execution_count": null,
      "outputs": [
        {
          "output_type": "stream",
          "name": "stdout",
          "text": [
            "dict_items([('name', 'Dylan'), ('height', 167.5), ('weight', 56.5), ('hair', 'brown'), ('eyes', 'brown'), ('has dog', True), ('favorite color', 'orange'), ('nieces/nephews', 4)])\n"
          ]
        }
      ]
    },
    {
      "cell_type": "markdown",
      "metadata": {
        "id": "_VekdzRnfWkF"
      },
      "source": [
        "## Switching data structures\n",
        "Each of the containers we've introduced has different properties and characteristics. Sometimes we will want to change one data structure into another to take advantage of these differences. We've already seen some methods for transforming a `dict` into a `list` of `tuple`s or vice versa. We can easily transform between `list`, `tuple`, and `set`."
      ]
    },
    {
      "cell_type": "code",
      "metadata": {
        "id": "PXkZEQ3pfWkF"
      },
      "source": [
        "example_list = ['a', 'b', 23, 10, True, 'a', 10]"
      ],
      "execution_count": null,
      "outputs": []
    },
    {
      "cell_type": "code",
      "source": [
        "example_tuple = tuple(example_list)\n",
        "\n",
        "print(example_tuple)\n"
      ],
      "metadata": {
        "colab": {
          "base_uri": "https://localhost:8080/"
        },
        "id": "_n7_UDFO6yxe",
        "outputId": "149aae4f-c56d-4b33-c55d-dec44811162e"
      },
      "execution_count": null,
      "outputs": [
        {
          "output_type": "stream",
          "name": "stdout",
          "text": [
            "('a', 'b', 23, 10, True, 'a', 10)\n"
          ]
        }
      ]
    },
    {
      "cell_type": "code",
      "source": [
        "example_set = set(example_tuple)\n",
        "\n",
        "print(example_set)\n",
        "\n",
        "example_set_from_list = set(example_list)\n",
        "\n",
        "print(example_set_from_list)\n"
      ],
      "metadata": {
        "colab": {
          "base_uri": "https://localhost:8080/"
        },
        "id": "PUv9Wyi763XN",
        "outputId": "08068247-99d7-4afe-b331-8d1c7fa28302"
      },
      "execution_count": null,
      "outputs": [
        {
          "output_type": "stream",
          "name": "stdout",
          "text": [
            "{True, 'a', 10, 'b', 23}\n",
            "{True, 'a', 10, 'b', 23}\n"
          ]
        }
      ]
    },
    {
      "cell_type": "markdown",
      "metadata": {
        "id": "ub4svxirfWkG"
      },
      "source": [
        "## Search\n",
        "\n",
        "We discussed the idea of searching for data in our data structures when describing what makes `set` (and `dict`) so special. What does search look like in Python? We search for data using the keyword `in`."
      ]
    },
    {
      "cell_type": "code",
      "metadata": {
        "id": "js8CopqBfWkG",
        "colab": {
          "base_uri": "https://localhost:8080/"
        },
        "outputId": "33602c22-f981-4a16-bf78-52df8ccb6de6"
      },
      "source": [
        "print(example_list)\n"
      ],
      "execution_count": null,
      "outputs": [
        {
          "output_type": "stream",
          "name": "stdout",
          "text": [
            "['a', 'b', 23, 10, True, 'a', 10]\n"
          ]
        }
      ]
    },
    {
      "cell_type": "code",
      "source": [
        "print('a' in example_list)"
      ],
      "metadata": {
        "colab": {
          "base_uri": "https://localhost:8080/"
        },
        "id": "mwwulvG27SGa",
        "outputId": "5d247e00-7fd5-457a-927c-00808119e127"
      },
      "execution_count": null,
      "outputs": [
        {
          "output_type": "stream",
          "name": "stdout",
          "text": [
            "True\n"
          ]
        }
      ]
    },
    {
      "cell_type": "code",
      "source": [
        "print('c' in example_list)"
      ],
      "metadata": {
        "colab": {
          "base_uri": "https://localhost:8080/"
        },
        "id": "VIdiloUj7VM6",
        "outputId": "17488036-020a-44e8-c4c1-f1898e006dc8"
      },
      "execution_count": null,
      "outputs": [
        {
          "output_type": "stream",
          "name": "stdout",
          "text": [
            "False\n"
          ]
        }
      ]
    },
    {
      "cell_type": "markdown",
      "metadata": {
        "id": "l3nrX3-HfWkG"
      },
      "source": [
        "When dealing with a `dict`, we can search keys, but not values."
      ]
    },
    {
      "cell_type": "code",
      "metadata": {
        "id": "nM1UpKdTfWkG",
        "colab": {
          "base_uri": "https://localhost:8080/"
        },
        "outputId": "700c2170-edd6-4e3c-b88b-19bbf8392b8e"
      },
      "source": [
        "print(my_dict)\n",
        "print('hair' in my_dict)\n",
        "print('has cat' in my_dict)\n",
        "print('brown' in my_dict)"
      ],
      "execution_count": null,
      "outputs": [
        {
          "output_type": "stream",
          "name": "stdout",
          "text": [
            "{'name': 'Dylan', 'height': 167.5, 'weight': 56.5, 'hair': 'brown', 'eyes': 'brown', 'has dog': True, 'favorite color': 'orange', 'nieces/nephews': 4}\n",
            "True\n",
            "False\n",
            "False\n"
          ]
        }
      ]
    },
    {
      "cell_type": "markdown",
      "metadata": {
        "id": "Y34LwiYPfWkG"
      },
      "source": [
        "Searching for keys is important in dictionaries so that we don't accidentally try to retrieve a key-value pair that doesn't exist."
      ]
    },
    {
      "cell_type": "code",
      "metadata": {
        "id": "MRwFQvVAfWkG",
        "colab": {
          "base_uri": "https://localhost:8080/",
          "height": 201
        },
        "outputId": "6ea892b8-41e3-4eae-a35a-d1bafc1669bf"
      },
      "source": [
        "# %%expect_exception KeyError\n",
        "\n",
        "print(my_dict['has cat'])"
      ],
      "execution_count": null,
      "outputs": [
        {
          "output_type": "error",
          "ename": "KeyError",
          "evalue": "ignored",
          "traceback": [
            "\u001b[0;31m---------------------------------------------------------------------------\u001b[0m",
            "\u001b[0;31mKeyError\u001b[0m                                  Traceback (most recent call last)",
            "\u001b[0;32m<ipython-input-194-29e5820af003>\u001b[0m in \u001b[0;36m<module>\u001b[0;34m\u001b[0m\n\u001b[1;32m      1\u001b[0m \u001b[0;31m# %%expect_exception KeyError\u001b[0m\u001b[0;34m\u001b[0m\u001b[0;34m\u001b[0m\u001b[0;34m\u001b[0m\u001b[0m\n\u001b[1;32m      2\u001b[0m \u001b[0;34m\u001b[0m\u001b[0m\n\u001b[0;32m----> 3\u001b[0;31m \u001b[0mprint\u001b[0m\u001b[0;34m(\u001b[0m\u001b[0mmy_dict\u001b[0m\u001b[0;34m[\u001b[0m\u001b[0;34m'has cat'\u001b[0m\u001b[0;34m]\u001b[0m\u001b[0;34m)\u001b[0m\u001b[0;34m\u001b[0m\u001b[0;34m\u001b[0m\u001b[0m\n\u001b[0m",
            "\u001b[0;31mKeyError\u001b[0m: 'has cat'"
          ]
        }
      ]
    },
    {
      "cell_type": "code",
      "metadata": {
        "id": "OS6PdlCtfWkH",
        "colab": {
          "base_uri": "https://localhost:8080/"
        },
        "outputId": "d5456798-2be0-4caf-b101-c065b5fc889e"
      },
      "source": [
        "if 'has dog' in my_dict:\n",
        "    print('Has dog: %s' % my_dict['has dog'])\n",
        "else:\n",
        "    print(None)\n",
        "\n",
        "if 'has cat' in my_dict:\n",
        "    print('Has cat: %s' % my_dict['has cat'])\n",
        "else:\n",
        "    print(None)"
      ],
      "execution_count": null,
      "outputs": [
        {
          "output_type": "stream",
          "name": "stdout",
          "text": [
            "Has dog: True\n",
            "None\n"
          ]
        }
      ]
    },
    {
      "cell_type": "code",
      "metadata": {
        "id": "rMx9J3jafWkH",
        "colab": {
          "base_uri": "https://localhost:8080/"
        },
        "outputId": "9c6d2f88-ba8f-414c-b1f5-78d5f9454fd0"
      },
      "source": [
        "# can use get method for same results\n",
        "\n",
        "print('Has dog: %s' % my_dict.get('has dog'))\n",
        "print('Has cat: %s' % my_dict.get('has cat'))"
      ],
      "execution_count": null,
      "outputs": [
        {
          "output_type": "stream",
          "name": "stdout",
          "text": [
            "Has dog: True\n",
            "Has cat: None\n"
          ]
        }
      ]
    },
    {
      "cell_type": "markdown",
      "metadata": {
        "id": "I7v4wiI1fWkH"
      },
      "source": [
        "We can imagine a lot of situations where search is useful. Is a country in the set of places that are going to be affected by a drought? Is a task in my to-do list? Is this username already taken, and if so what is the matching password (a `dict` would be useful here)?"
      ]
    },
    {
      "cell_type": "markdown",
      "metadata": {
        "id": "_Uz8HL4-fWkH"
      },
      "source": [
        "## Sorting\n",
        "\n",
        "Since a `tuple` is immutable, can we sort it? Or is that a mutation? What would it mean to sort a `set` or a `dict`, which has no order?\n",
        "\n",
        "Out of the data structures we've studied so far, only `list` has a `sort` method. However, Python also has a `sorted` function, which will create a sorted `list` out of other data structures. By default `sorted` applied to a `dict` makes a `list` of sorted keys. We must use the `items` method if we want our output to be key-value pairs."
      ]
    },
    {
      "cell_type": "code",
      "metadata": {
        "id": "Bs6HMjUefWkI"
      },
      "source": [
        "print(sorted(map(str, example_tuple)))\n",
        "print(sorted(map(str, example_set)))\n",
        "print(sorted(me_dict.items()))\n",
        "print(sorted(me_dict))"
      ],
      "execution_count": null,
      "outputs": []
    },
    {
      "cell_type": "markdown",
      "metadata": {
        "id": "gvylCWJyfWkI"
      },
      "source": [
        "## Iteration\n",
        "\n",
        "As we've seen in some examples already, it will often be useful to iterate through a data structure, whether to execute some task based on the information contained or to transform or analyze a data set. We will most often use `for` loops to iterate over data structures. With a `list`, `tuple`, or `set` the elements of the container are returned one after another. With a `dict` things are a little more complicated: do we want to iterate over keys, values, or key-value pairs?"
      ]
    },
    {
      "cell_type": "code",
      "metadata": {
        "id": "xuLb2F32fWkI",
        "colab": {
          "base_uri": "https://localhost:8080/"
        },
        "outputId": "13258015-62ee-4280-a573-88eacc1b7199"
      },
      "source": [
        "# by default we iterate over keys of a dict\n",
        "for k in my_dict:\n",
        "    print(k)"
      ],
      "execution_count": null,
      "outputs": [
        {
          "output_type": "stream",
          "name": "stdout",
          "text": [
            "name\n",
            "height\n",
            "weight\n",
            "hair\n",
            "eyes\n",
            "has dog\n",
            "favorite color\n",
            "nieces/nephews\n"
          ]
        }
      ]
    },
    {
      "cell_type": "code",
      "metadata": {
        "id": "-iOBHNDDfWkI",
        "colab": {
          "base_uri": "https://localhost:8080/"
        },
        "outputId": "ac888bd3-c2bd-4b94-ef5a-67279562564d"
      },
      "source": [
        "# to iterate over values...\n",
        "for v in my_dict.values():\n",
        "    print(v)"
      ],
      "execution_count": null,
      "outputs": [
        {
          "output_type": "stream",
          "name": "stdout",
          "text": [
            "Dylan\n",
            "167.5\n",
            "56.5\n",
            "brown\n",
            "brown\n",
            "True\n",
            "orange\n",
            "4\n"
          ]
        }
      ]
    },
    {
      "cell_type": "code",
      "metadata": {
        "id": "tA0xcQEzfWkI",
        "colab": {
          "base_uri": "https://localhost:8080/"
        },
        "outputId": "e92d0f16-00e9-4770-afb0-5a695587fbbf"
      },
      "source": [
        "# or to iterate over key-value pairs...\n",
        "for k, v in my_dict.items():\n",
        "    print('%s: %s' % (k, v))"
      ],
      "execution_count": null,
      "outputs": [
        {
          "output_type": "stream",
          "name": "stdout",
          "text": [
            "name: Dylan\n",
            "height: 167.5\n",
            "weight: 56.5\n",
            "hair: brown\n",
            "eyes: brown\n",
            "has dog: True\n",
            "favorite color: orange\n",
            "nieces/nephews: 4\n"
          ]
        }
      ]
    },
    {
      "cell_type": "markdown",
      "metadata": {
        "id": "XqgEuW_xfWkJ"
      },
      "source": [
        "Notice we used `tuple` unpacking in the `for` loop in the last example!\n",
        "\n",
        "### Comprehensions\n",
        "\n",
        "Python has a special syntax called _comprehension_ for combining iteration with the creation of a data structure. It is essentially a `for` loop wrapped in the appropriate brackets for creating the data structure."
      ]
    },
    {
      "cell_type": "code",
      "metadata": {
        "id": "BDGD1NjMfWkJ"
      },
      "source": [
        "squares = [x**2 for x in range(10)]"
      ],
      "execution_count": null,
      "outputs": []
    },
    {
      "cell_type": "code",
      "source": [
        "print(squares)"
      ],
      "metadata": {
        "colab": {
          "base_uri": "https://localhost:8080/"
        },
        "id": "b1G5BeEK8UYV",
        "outputId": "ecb30048-54bb-483d-b7b4-0f368c2edbd5"
      },
      "execution_count": null,
      "outputs": [
        {
          "output_type": "stream",
          "name": "stdout",
          "text": [
            "[0, 1, 4, 9, 16, 25, 36, 49, 64, 81]\n"
          ]
        }
      ]
    },
    {
      "cell_type": "code",
      "source": [
        "square_lut = {x: x**2 for x in range(10)}\n",
        "\n",
        "print(square_lut)"
      ],
      "metadata": {
        "colab": {
          "base_uri": "https://localhost:8080/"
        },
        "id": "LPExmm9E8qLI",
        "outputId": "4016795f-6b92-4f9a-f417-d1403dade428"
      },
      "execution_count": null,
      "outputs": [
        {
          "output_type": "stream",
          "name": "stdout",
          "text": [
            "{0: 0, 1: 1, 2: 4, 3: 9, 4: 16, 5: 25, 6: 36, 7: 49, 8: 64, 9: 81}\n"
          ]
        }
      ]
    },
    {
      "cell_type": "markdown",
      "metadata": {
        "id": "GVB7dlYmfWkJ"
      },
      "source": [
        "Comprehensions are very useful for doing simple transformations on data structures. For example, maybe we are writing a function that will analyze `me_dict`. It might be useful to have a `dict` of the data types of the values in `me_dict` so that we know what to expect as input."
      ]
    },
    {
      "cell_type": "code",
      "metadata": {
        "id": "SUYoZVuVfWkJ",
        "colab": {
          "base_uri": "https://localhost:8080/"
        },
        "outputId": "d7e5cba8-256b-4f51-a292-c561894aa79a"
      },
      "source": [
        "me_dict_dtypes = {k: type(v) for k, v in my_dict.items()}\n",
        "print(me_dict_dtypes)"
      ],
      "execution_count": null,
      "outputs": [
        {
          "output_type": "stream",
          "name": "stdout",
          "text": [
            "{'name': <class 'str'>, 'height': <class 'float'>, 'weight': <class 'float'>, 'hair': <class 'str'>, 'eyes': <class 'str'>, 'has dog': <class 'bool'>, 'favorite color': <class 'str'>, 'nieces/nephews': <class 'int'>}\n"
          ]
        }
      ]
    },
    {
      "cell_type": "markdown",
      "metadata": {
        "id": "elYEgSaHfWkK"
      },
      "source": [
        "Comprehensions also make code more readable. Compare the `for` loop implementation of `square_lut` with the comprehension."
      ]
    },
    {
      "cell_type": "code",
      "metadata": {
        "id": "5sJMHArffWkK"
      },
      "source": [
        "square_lut = {}\n",
        "for x in range(10):\n",
        "    square_lut[x] = x**2\n",
        "\n",
        "print(square_lut)\n",
        "\n",
        "square_lut = {x: x**2 for x in range(10)}\n",
        "\n",
        "print(square_lut)"
      ],
      "execution_count": null,
      "outputs": []
    },
    {
      "cell_type": "markdown",
      "metadata": {
        "id": "fDVFTFY8fWkK"
      },
      "source": [
        "## Collections\n",
        "As previously mentioned, the Python standard library has a `collections` module which contains a variety of extremely useful containers, especially for implementing algorithms as they tend to be quite optimized.  They are slightly more specialized than the general Python containers.\n",
        "\n",
        "The containers are:\n",
        "\n",
        "- `namedtuple`\n",
        "- `deque`\n",
        "- `Counter`\n",
        "- `OrderedDict`\n",
        "- `defaultdict`\n",
        "\n",
        "\n",
        "### `namedtuple`\n",
        "\n",
        "The `namedtuple` generates a class which is similar to a tuple, but has named entries.  Lets make one for a three dimensional vector which has fields `x,y,z`.  If we use the `verbose` flag we can see the generated Python code."
      ]
    },
    {
      "cell_type": "code",
      "metadata": {
        "id": "HIjt9YwmfWkK"
      },
      "source": [
        "from collections import namedtuple\n",
        "Vector3 = namedtuple('Vector', ['x', 'y', 'z'], verbose=True)"
      ],
      "execution_count": null,
      "outputs": []
    },
    {
      "cell_type": "markdown",
      "metadata": {
        "id": "6DignZN_fWkK"
      },
      "source": [
        "Now we can access the elements of the elements of tuple by name."
      ]
    },
    {
      "cell_type": "code",
      "metadata": {
        "id": "69qDDLn0fWkL"
      },
      "source": [
        "vec = Vector3(1,2,3)\n",
        "vec.x, vec.y, vec.z"
      ],
      "execution_count": null,
      "outputs": []
    },
    {
      "cell_type": "markdown",
      "metadata": {
        "id": "JmCzsQhvfWkL"
      },
      "source": [
        "At this point you might be wondering why we can't just use a dictionary (or some other object).  One good reason is immutability"
      ]
    },
    {
      "cell_type": "code",
      "metadata": {
        "id": "wVnlxmtifWkL"
      },
      "source": [
        "%%expect_exception AttributeError\n",
        "\n",
        "vec.x = 5"
      ],
      "execution_count": null,
      "outputs": []
    },
    {
      "cell_type": "markdown",
      "metadata": {
        "id": "3h91spzmfWkL"
      },
      "source": [
        "Another good reason is that it will behave like a tuple when passed into a function."
      ]
    },
    {
      "cell_type": "code",
      "metadata": {
        "id": "-VksQFT-fWkL"
      },
      "source": [
        "def tfunc(a,b,c):\n",
        "    print(a,b,c)\n",
        "tfunc(*vec)"
      ],
      "execution_count": null,
      "outputs": []
    },
    {
      "cell_type": "markdown",
      "metadata": {
        "id": "LvFaOoQQfWkL"
      },
      "source": [
        "`namedtuple` are a great way to create self documenting code with almost no memory cost.\n",
        "\n",
        "### `deque`\n",
        "A `deque` is a like a queue or a stack except it works both ways.  We can think of a `deque` as a list where we generally care about working with the ends of the list.  The `deque` is optimized for $O(1)$ performance for both adding and removing elements from the ends of the structure, whereas a general `list` will be $O(N)$ for operations at the front of the list.\n",
        "\n",
        "Lets see an example"
      ]
    },
    {
      "cell_type": "code",
      "metadata": {
        "id": "G_yHhe_yfWkM"
      },
      "source": [
        "from collections import deque\n",
        "\n",
        "d = deque([2,3,4,5])\n",
        "print(d)\n",
        "d.append(10)\n",
        "print(d)\n",
        "d.appendleft(20)\n",
        "print(d)"
      ],
      "execution_count": null,
      "outputs": []
    },
    {
      "cell_type": "markdown",
      "metadata": {
        "id": "wQqw-ETXfWkM"
      },
      "source": [
        "Lets time how long it takes to perform the same operation adding elements to the left of a `deque` and a `list`"
      ]
    },
    {
      "cell_type": "code",
      "metadata": {
        "id": "haE1oCoufWkM"
      },
      "source": [
        "%%timeit\n",
        "l_ = list()\n",
        "for i in range(40000):\n",
        "    l_.insert(0, i)"
      ],
      "execution_count": null,
      "outputs": []
    },
    {
      "cell_type": "code",
      "metadata": {
        "id": "mD95OT5dfWkM"
      },
      "source": [
        "%%timeit\n",
        "d = deque()\n",
        "for i in range(40000):\n",
        "    d.appendleft(i)"
      ],
      "execution_count": null,
      "outputs": []
    },
    {
      "cell_type": "code",
      "metadata": {
        "id": "Gwax4SwcfWkM"
      },
      "source": [
        "d = deque()\n",
        "l_ = list()\n",
        "for i in range(40000):\n",
        "    d.appendleft(i)\n",
        "    l_.insert(0, i)\n",
        "    \n",
        "list(d) == l_"
      ],
      "execution_count": null,
      "outputs": []
    },
    {
      "cell_type": "markdown",
      "metadata": {
        "id": "F5WnEhiAfWkN"
      },
      "source": [
        "The `deque` is orders of magnitude faster than the `list`, but contains the same values.  Thus, for some specialized tasks, it can be a massive enhancement.\n",
        "\n",
        "### `Counter`\n",
        "The `Counter` is an extremely useful object.  It counts elements in some iterable and returns a dictionary-like structure containing the count of each element. Lets see an example."
      ]
    },
    {
      "cell_type": "code",
      "metadata": {
        "id": "485VvMtffWkN"
      },
      "source": [
        "from collections import Counter\n",
        "ele = ['a','b','a','c','b','b','d']\n",
        "c = Counter(ele)\n",
        "print(c)"
      ],
      "execution_count": null,
      "outputs": []
    },
    {
      "cell_type": "markdown",
      "metadata": {
        "id": "-sFQgDz5fWkN"
      },
      "source": [
        "We can find the number of counts of an element by using the same `get` syntax as a dictionary.  What what happens when we access an element that has no counts."
      ]
    },
    {
      "cell_type": "code",
      "metadata": {
        "id": "xNLalA2AfWkO"
      },
      "source": [
        "c['a'], c['z']"
      ],
      "execution_count": null,
      "outputs": []
    },
    {
      "cell_type": "markdown",
      "metadata": {
        "id": "jC7E95mWfWkO"
      },
      "source": [
        "We can also find the most common elements"
      ]
    },
    {
      "cell_type": "code",
      "metadata": {
        "id": "4I0G2a9jfWkO"
      },
      "source": [
        "c.most_common(2)"
      ],
      "execution_count": null,
      "outputs": []
    },
    {
      "cell_type": "markdown",
      "metadata": {
        "id": "Bg6L0RqrfWkO"
      },
      "source": [
        "### `OrderedDict`\n",
        "\n",
        "A Python dictionary does not have a natural order, but sometimes it is useful to have the properties of a dictionary like $O(1)$ access to items with an ordering.  An `OrderedDict` is exactly like a `dict`, but it remembers the insertion order of the keys.\n",
        "\n",
        "### `defaultdict`\n",
        "\n",
        "One common paradigm of a dictionary is to handle the case of a missing key.  Lets say we take the counter example from above and try to implement our own.  We want to do something like create a dictionary and every time we encounter a key we want to add one to the existing value at that key and if we haven't seen that key, we want to create it and initialize it to zero before adding it.  One way to do this is:"
      ]
    },
    {
      "cell_type": "code",
      "metadata": {
        "id": "W8bTtL2PfWkO"
      },
      "source": [
        "def count(x):\n",
        "    count_dict = {}\n",
        "    for ele in x:\n",
        "        if ele in count_dict.keys():\n",
        "            count_dict[ele] += 1\n",
        "        else:\n",
        "            count_dict[ele] = 1\n",
        "    return count_dict\n",
        "count(ele)"
      ],
      "execution_count": null,
      "outputs": []
    },
    {
      "cell_type": "markdown",
      "metadata": {
        "id": "bZmWAodnfWkO"
      },
      "source": [
        "This is such a common case that we have the `defaultdict` to deal with it.  The `defaultdict` takes a default _factory function_ which can be as a simple as just returning 0 which produces a value when the key has not been seen before.  We can implement in the same algorithm as above in a bit of a simpler way"
      ]
    },
    {
      "cell_type": "code",
      "metadata": {
        "id": "UBIKld80fWkP"
      },
      "source": [
        "from collections import defaultdict\n",
        "def count_default(x):\n",
        "    count_dict = defaultdict(int)\n",
        "    for ele in x:\n",
        "        count_dict[ele] += 1\n",
        "    return count_dict\n",
        "count_default(ele)"
      ],
      "execution_count": null,
      "outputs": []
    },
    {
      "cell_type": "markdown",
      "metadata": {
        "id": "3Xt4FqbxfWkQ"
      },
      "source": [
        "## Some topics we haven't discussed, but have used:\n",
        "- `map`"
      ]
    },
    {
      "cell_type": "markdown",
      "metadata": {
        "id": "KzRyB5FUfWkQ"
      },
      "source": [
        "## Questions:\n",
        "- Are strings immutable? Are strings ordered? Can we slice strings?"
      ]
    },
    {
      "cell_type": "markdown",
      "metadata": {
        "id": "wFw3IzmjfWkQ"
      },
      "source": [
        "*Copyright &copy; 2017 The Data Incubator.  All rights reserved.*"
      ]
    },
    {
      "cell_type": "code",
      "metadata": {
        "id": "GvAtjsTOfWkQ"
      },
      "source": [],
      "execution_count": null,
      "outputs": []
    },
    {
      "cell_type": "markdown",
      "source": [
        "# Mini Project 5:\n",
        "Write a python function that takes as input a dictionary of students data, with keys representing the ID of the student, the values representing the data in the format of a list in the following order, [ID, name, age, height, weight]\n",
        "\n",
        "- The function should return a list of tuples of their BMIs"
      ],
      "metadata": {
        "id": "95da4fSg9LbH"
      }
    },
    {
      "cell_type": "code",
      "source": [
        "students = {\n",
        "    \"100\": [100, \"John Doe\", 24, 1.87, 87.3],\n",
        "    \"200\": [200, \"Mike Ibuka\", 35, 1.8, 90.2],\n",
        "    \"300\": [300, \"Olouge Eya\", 30, 1.7, 71.1],\n",
        "}"
      ],
      "metadata": {
        "id": "00a6poG2DJkh"
      },
      "execution_count": null,
      "outputs": []
    },
    {
      "cell_type": "markdown",
      "source": [
        "# Mini Project 6\n",
        "Write a python function that takes as input a dictionary of employee data, with keys representing the ID of the employees, the values representing the data in the format of a tuple in the following order, (ID, name, age, salary)\n",
        "\n",
        "- The function should return a list of their monthly salaries after tax assuming a tax rate of 1.86%"
      ],
      "metadata": {
        "id": "BtVDb46Y95b_"
      }
    },
    {
      "cell_type": "code",
      "source": [
        "employees = {\n",
        "    \"100\": (100, \"John Doe\", 24, 5000),\n",
        "    \"200\": (200, \"Mike Ibuka\", 35, 6000),\n",
        "    \"300\": (300, \"Olouge Eya\", 30, 10000),\n",
        "}"
      ],
      "metadata": {
        "id": "VT2AqJtFJKBC"
      },
      "execution_count": null,
      "outputs": []
    }
  ]
}